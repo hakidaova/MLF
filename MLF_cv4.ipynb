{
  "nbformat": 4,
  "nbformat_minor": 0,
  "metadata": {
    "colab": {
      "provenance": [],
      "mount_file_id": "1J0FANupoAppBM6WYPSIlTivUctPmr1qc",
      "authorship_tag": "ABX9TyOs0K7UBnnk1V49FiH6JwlP",
      "include_colab_link": true
    },
    "kernelspec": {
      "name": "python3",
      "display_name": "Python 3"
    },
    "language_info": {
      "name": "python"
    }
  },
  "cells": [
    {
      "cell_type": "markdown",
      "metadata": {
        "id": "view-in-github",
        "colab_type": "text"
      },
      "source": [
        "<a href=\"https://colab.research.google.com/github/hakidaova/MLF/blob/main/MLF_cv4.ipynb\" target=\"_parent\"><img src=\"https://colab.research.google.com/assets/colab-badge.svg\" alt=\"Open In Colab\"/></a>"
      ]
    },
    {
      "cell_type": "code",
      "execution_count": 101,
      "metadata": {
        "id": "HWOc2pVxF_Eq"
      },
      "outputs": [],
      "source": [
        "import matplotlib.pyplot as plt\n",
        "import copy\n",
        "import numpy as np\n",
        "from numpy.linalg import norm\n",
        "from sklearn.cluster import KMeans"
      ]
    },
    {
      "cell_type": "code",
      "source": [
        "loaded_points = np.load('/k_mean_points.npy')\n",
        "\n",
        "plt.figure()\n",
        "plt.scatter(loaded_points[:,0],loaded_points[:,1])"
      ],
      "metadata": {
        "colab": {
          "base_uri": "https://localhost:8080/",
          "height": 449
        },
        "id": "t3YTZ2SEOaF3",
        "outputId": "62eab29a-35f5-4308-fe0f-ddf5a1190350"
      },
      "execution_count": 102,
      "outputs": [
        {
          "output_type": "execute_result",
          "data": {
            "text/plain": [
              "<matplotlib.collections.PathCollection at 0x7dd123d54190>"
            ]
          },
          "metadata": {},
          "execution_count": 102
        },
        {
          "output_type": "display_data",
          "data": {
            "text/plain": [
              "<Figure size 640x480 with 1 Axes>"
            ],
            "image/png": "[encoded data removed]"
          },
          "metadata": {}
        }
      ]
    },
    {
      "cell_type": "code",
      "source": [
        "k = 3"
      ],
      "metadata": {
        "id": "Raka_L_7PnVv"
      },
      "execution_count": 103,
      "outputs": []
    },
    {
      "cell_type": "code",
      "source": [
        "def initialize_clusters(points: np.ndarray, k_clusters: int) -> np.ndarray:\n",
        "    \"\"\"\n",
        "    Initializes and returns k random centroids from the given dataset.\n",
        "\n",
        "    :param points: Array of data points.\n",
        "    :type: points ndarray with shape (n, 2)\n",
        "\n",
        "    :param k_clusters: The number of clusters to form\n",
        "    :type k_clusters: int\n",
        "\n",
        "\n",
        "    :return: initial_clusters\n",
        "    initial_clusters: Array of initialized centroids\n",
        "\n",
        "    :rtype:\n",
        "    initial_clusters: np.array (k_clusters, 2)\n",
        "    :\n",
        "\n",
        "    \"\"\"\n",
        "\n",
        "    ###################################\n",
        "    # Write your own code here\n",
        "    #points = np.random.shuffle(loaded_points)\n",
        "    initial_clusters = points[np.random.choice(points.shape[0],k_clusters, replace = False)]\n",
        "\n",
        "    ###################################\n",
        "\n",
        "    return initial_clusters"
      ],
      "metadata": {
        "id": "meROaO3PPokX"
      },
      "execution_count": 115,
      "outputs": []
    },
    {
      "cell_type": "code",
      "source": [
        "ini = initialize_clusters(loaded_points,k)\n",
        "print(ini)"
      ],
      "metadata": {
        "colab": {
          "base_uri": "https://localhost:8080/"
        },
        "id": "BsbpwOE0VtVE",
        "outputId": "dd30f9cf-2a4a-4a92-8382-2887ec47d998"
      },
      "execution_count": 116,
      "outputs": [
        {
          "output_type": "stream",
          "name": "stdout",
          "text": [
            "[[ 5.4846864   5.3403198 ]\n",
            " [ 5.46249345  5.69923549]\n",
            " [14.13036356 16.72446994]]\n"
          ]
        }
      ]
    },
    {
      "cell_type": "code",
      "source": [
        "def calculate_metric(points: np.ndarray, centroid: np.ndarray) -> np.ndarray:\n",
        "    \"\"\"\n",
        "    Calculates the distance metric between each point and a given centroid.\n",
        "\n",
        "    Parameters:\n",
        "    :param points: Array of n data points.\n",
        "    :type points: ndarray with shape (n, 2)\n",
        "\n",
        "    :param centroid: A single centroid\n",
        "    :type centroid: ndarray with shape (1, 2)\n",
        "\n",
        "    :return: distances_array\n",
        "    distances_array: Array of distances from point to centroid\n",
        "\n",
        "    :rtype:\n",
        "    distances_array: ndarray with shape (n,)\n",
        "    :\n",
        "    \"\"\"\n",
        "\n",
        "    ###################################\n",
        "    # Write your own code here\n",
        "    distances_array = np.linalg.norm(points - centroid, axis = 1)\n",
        "    #distances_array = np.array([])\n",
        "\n",
        "\n",
        "    ###################################\n",
        "\n",
        "    return distances_array"
      ],
      "metadata": {
        "id": "qUCX_d8mVbzl"
      },
      "execution_count": 117,
      "outputs": []
    },
    {
      "cell_type": "code",
      "source": [
        "distance = calculate_metric(loaded_points,ini[1,:])\n",
        "print(distance)"
      ],
      "metadata": {
        "colab": {
          "base_uri": "https://localhost:8080/"
        },
        "id": "HibcxWQrZysn",
        "outputId": "682f1d2a-5ae2-43eb-8386-00cba90dbab8"
      },
      "execution_count": 118,
      "outputs": [
        {
          "output_type": "stream",
          "name": "stdout",
          "text": [
            "[ 3.95759248  2.41661467  0.          0.35960117  1.19621665  5.0172431\n",
            "  3.66684472  1.16878232  2.95491256  6.50470353  6.78267099  5.35732415\n",
            "  4.5569066   5.68799854  5.15166559  5.41397348  3.30500274  3.88622067\n",
            "  5.1692002   1.14741302  4.70609655  2.52546166  4.89221608  4.5651332\n",
            "  4.4471806   4.83776994  2.15538441  5.93595206  3.25442249  3.87696845\n",
            "  5.19741918  7.09343005  4.3323583   0.77715435  1.98774009  3.60927942\n",
            "  3.20187419  5.64281935  4.43440067  2.66513575 12.4328944  14.35154708\n",
            " 12.00104099 12.23725998 10.65366867 14.0245416  10.9020731   9.56876448\n",
            "  9.41986445  8.23065996  8.72447292 12.79652523 12.86533929 11.52303045\n",
            " 12.00168081 11.82309614 13.88792686 14.55037317 12.49581049  8.22644465]\n"
          ]
        }
      ]
    },
    {
      "cell_type": "code",
      "source": [
        "def compute_distances(points: np.ndarray, centroids_points: np.ndarray) -> np.ndarray:\n",
        "    \"\"\"\n",
        "    Computes and returns the distance from each point to each centroid.\n",
        "\n",
        "    Parameters:\n",
        "    :param points: Array of n data points.\n",
        "    :type points: ndarray with shape (n, 2)\n",
        "\n",
        "    :param centroids_points: A all centroid points\n",
        "    :type centroids_points: ndarray with shape (k_clusters, 2)\n",
        "\n",
        "\n",
        "    :return: distances_array\n",
        "    distances_array: 2D array with distances of each point to each centroid.\n",
        "\n",
        "    :rtype:\n",
        "    distances_array: ndarray of shape (k_clusters, n)\n",
        "    \"\"\"\n",
        "    ###################################\n",
        "    # Write your own code here\n",
        "\n",
        "    # Initialize an empty array to store distances\n",
        "    distances_array = np.zeros((points.shape[0], centroids_points.shape[0]))\n",
        "\n",
        "    # Loop through each centroid and calculate the distance from each point\n",
        "    for i, centroid in enumerate(centroids_points):\n",
        "        distances_array[:, i] = calculate_metric(points, centroid)\n",
        "    ###################################\n",
        "\n",
        "    return distances_array"
      ],
      "metadata": {
        "id": "uTWjurCKaRGn"
      },
      "execution_count": 121,
      "outputs": []
    },
    {
      "cell_type": "code",
      "source": [
        "distances = compute_distances(loaded_points,ini)\n",
        "print(distances)"
      ],
      "metadata": {
        "colab": {
          "base_uri": "https://localhost:8080/"
        },
        "id": "m4ROv9eweM5J",
        "outputId": "fa4f55c1-0416-4972-dddb-02691d9c9cad"
      },
      "execution_count": 122,
      "outputs": [
        {
          "output_type": "stream",
          "name": "stdout",
          "text": [
            "[[ 3.6072421   3.95759248 17.5831501 ]\n",
            " [ 2.09321735  2.41661467 15.17923816]\n",
            " [ 0.35960117  0.         14.0245416 ]\n",
            " [ 0.          0.35960117 14.29498542]\n",
            " [ 0.96954609  1.19621665 14.1669963 ]\n",
            " [ 5.07276863  5.0172431  17.38630711]\n",
            " [ 3.32063662  3.66684472 17.37624925]\n",
            " [ 1.02928888  1.16878232 15.14583517]\n",
            " [ 2.94595332  2.95491256 16.29936626]\n",
            " [ 6.2492547   6.50470353 20.52680934]\n",
            " [ 6.49716231  6.78267099 20.78836992]\n",
            " [ 4.99774795  5.35732415 18.40364239]\n",
            " [ 4.27173183  4.5569066  18.56513516]\n",
            " [ 5.33123207  5.68799854 18.28608116]\n",
            " [ 4.96981411  5.15166559 19.02659388]\n",
            " [ 5.20603749  5.41397348 19.36139262]\n",
            " [ 3.19201685  3.30500274 17.03576027]\n",
            " [ 3.81214452  3.88622067 17.38906656]\n",
            " [ 4.80996263  5.1692002  18.0930433 ]\n",
            " [ 0.99097938  1.14741302 15.14001565]\n",
            " [ 4.97960601  4.70609655  9.31847724]\n",
            " [ 2.76140044  2.52546166 11.5485594 ]\n",
            " [ 5.23248835  4.89221608  9.67190742]\n",
            " [ 4.92327024  4.5651332  10.6950689 ]\n",
            " [ 4.57375576  4.4471806  10.40460432]\n",
            " [ 5.08689115  4.83776994  9.2265333 ]\n",
            " [ 2.49233153  2.15538441 12.01665978]\n",
            " [ 6.09115271  5.93595206  8.95245399]\n",
            " [ 3.51335632  3.25442249 10.78250875]\n",
            " [ 4.10146616  3.87696845 10.25837697]\n",
            " [ 5.15261884  5.19741918 12.04953699]\n",
            " [ 7.36201824  7.09343005  6.93296772]\n",
            " [ 4.30307209  4.3323583  12.09702932]\n",
            " [ 0.87925586  0.77715435 13.47832079]\n",
            " [ 2.03755842  1.98774009 12.70878321]\n",
            " [ 3.71137174  3.60927942 11.23814201]\n",
            " [ 3.55415964  3.20187419 11.34805474]\n",
            " [ 5.93815145  5.64281935  8.43153164]\n",
            " [ 4.6556256   4.43440067  9.73387797]\n",
            " [ 2.7277345   2.66513575 12.17705768]\n",
            " [12.73603755 12.4328944   2.56339423]\n",
            " [14.56777717 14.35154708  2.95838059]\n",
            " [12.28222354 12.00104099  2.1085085 ]\n",
            " [12.49838969 12.23725998  1.86288754]\n",
            " [10.87258941 10.65366867  4.17289547]\n",
            " [14.29498542 14.0245416   0.        ]\n",
            " [11.1143566  10.9020731   4.17465258]\n",
            " [ 9.80230241  9.56876448  4.7826181 ]\n",
            " [ 9.59279672  9.41986445  6.15893453]\n",
            " [ 8.41008505  8.23065996  6.83555342]\n",
            " [ 8.88885269  8.72447292  6.79128633]\n",
            " [13.04597574 12.79652523  1.68597606]\n",
            " [13.10600151 12.86533929  1.98380444]\n",
            " [11.82675234 11.52303045  3.18118188]\n",
            " [12.14046616 12.00168081  6.25574467]\n",
            " [12.12126957 11.82309614  2.73720524]\n",
            " [14.1392041  13.88792686  1.10140269]\n",
            " [14.79074279 14.55037317  1.78979201]\n",
            " [12.80719986 12.49581049  3.02013322]\n",
            " [ 8.4476498   8.22644465  6.1722073 ]]\n"
          ]
        }
      ]
    },
    {
      "cell_type": "code",
      "source": [
        "def assign_centroids(distances: np.ndarray) -> np.ndarray:\n",
        "    \"\"\"\n",
        "    Assigns each point to the closest centroid based on the distances.\n",
        "\n",
        "    Parameters:\n",
        "    :param distances: 2D array with distances of each point to each centroid.\n",
        "    :type distances: ndarray with shape (k_clusters, n)\n",
        "\n",
        "    :return: assigned_clusters\n",
        "    assigned_clusters: Array indicating the closest centroid for each data point.\n",
        "\n",
        "    :rtype:\n",
        "    assigned_centroids: ndarray with shape (1, n) and dtype = np.int32\n",
        "    \"\"\"\n",
        "\n",
        "    ###################################\n",
        "    # Write your own code here #\n",
        "    assigned_centroids = np.argmin(distances, axis=1)\n",
        "    ###################################\n",
        "\n",
        "    return assigned_centroids"
      ],
      "metadata": {
        "id": "KxDwM3YnefOq"
      },
      "execution_count": 123,
      "outputs": []
    },
    {
      "cell_type": "code",
      "source": [
        "assignment = assign_centroids(distances)\n",
        "print(assignment)"
      ],
      "metadata": {
        "colab": {
          "base_uri": "https://localhost:8080/"
        },
        "id": "XCXKfmC-ezVk",
        "outputId": "1153cf20-aa46-47f5-dcd6-a894e013f09f"
      },
      "execution_count": 125,
      "outputs": [
        {
          "output_type": "stream",
          "name": "stdout",
          "text": [
            "[0 0 1 0 0 1 0 0 0 0 0 0 0 0 0 0 0 0 0 0 1 1 1 1 1 1 1 1 1 1 0 2 0 1 1 1 1\n",
            " 1 1 1 2 2 2 2 2 2 2 2 2 2 2 2 2 2 2 2 2 2 2 2]\n"
          ]
        }
      ]
    },
    {
      "cell_type": "code",
      "source": [
        "def calculate_objective(assigned_centroids: np.ndarray, distances: np.ndarray) -> np.ndarray:\n",
        "    \"\"\"\n",
        "    Calculates and returns the objective function value for the clustering.\n",
        "\n",
        "    Parameters:\n",
        "    :param assigned_centroids: Array indicating the cluster assignment for each point.\n",
        "    :type assigned_centroids: ndarray with shape (1, n) and and dtype = np.int64\n",
        "\n",
        "    :param distances: 2D array with distances of each point to each centroid\n",
        "    :type distances: ndarray with shape (k_clusters, n) and and dtype = np.float64\n",
        "\n",
        "    :return: objective_function_value\n",
        "    objective_function_value: Objective function value.\n",
        "\n",
        "    :rtype:\n",
        "    objective_function_value: float32\n",
        "\n",
        "\n",
        "    \"\"\"\n",
        "    ###################################\n",
        "    # Write your own code here #\n",
        "\n",
        "    # Initialize the objective function value\n",
        "    objective_function_value = 0.0\n",
        "\n",
        "    # Iterate over each point and add the squared distance to its assigned centroid\n",
        "    for i in range(len(assigned_centroids)):\n",
        "        assigned_centroid_index = assigned_centroids[i]  # Get the index of the assigned centroid\n",
        "        objective_function_value += distances[i, assigned_centroid_index]**2  # Add squared distance\n",
        "\n",
        "    ###################################\n",
        "\n",
        "    return objective_function_value"
      ],
      "metadata": {
        "id": "RCvmYl9yfHA8"
      },
      "execution_count": 129,
      "outputs": []
    },
    {
      "cell_type": "code",
      "source": [
        "clustering = calculate_objective(assignment, distances)\n",
        "print(clustering)"
      ],
      "metadata": {
        "colab": {
          "base_uri": "https://localhost:8080/"
        },
        "id": "QNSrcV6cg3uq",
        "outputId": "5074f6e8-4775-4195-981b-9ab1bd713689"
      },
      "execution_count": 130,
      "outputs": [
        {
          "output_type": "stream",
          "name": "stdout",
          "text": [
            "1006.2748608451491\n"
          ]
        }
      ]
    },
    {
      "cell_type": "code",
      "source": [
        "def calculate_new_centroids(points: np.ndarray, assigned_centroids: np.ndarray, k_clusters: int) -> np.ndarray:\n",
        "    \"\"\"\n",
        "    Computes new centroids based on the current cluster assignments.\n",
        "\n",
        "    Parameters:\n",
        "    :param points: Array of n data points.\n",
        "    :type points: ndarray with shape (n, 2)\n",
        "\n",
        "    :param assigned_centroids: Array indicating the closest centroid for each data point.\n",
        "    :type assigned_centroids: ndarray with shape (1, n) and dtype = np.int32\n",
        "\n",
        "\n",
        "    :param k_clusters: Number of clusters.\n",
        "    :type k_clusters: int\n",
        "\n",
        "\n",
        "    :return: new_clusters\n",
        "    new_clusters: new cluster points\n",
        "\n",
        "    :rtype:\n",
        "    new_clusters: ndarray with shape (1, n) and dtype = np.float32\n",
        "    \"\"\"\n",
        "\n",
        "    ###################################\n",
        "    # Write your own code here #\n",
        "\n",
        "    # Initialize the new centroids array with shape (k_clusters, 2)\n",
        "    new_clusters = np.zeros((k_clusters, points.shape[1]))\n",
        "\n",
        "    # For each cluster, calculate the mean of the points assigned to it\n",
        "    for i in range(k_clusters):\n",
        "        # Get the indices of points assigned to the current cluster\n",
        "        assigned_points = points[assigned_centroids == i]\n",
        "\n",
        "        # If there are points assigned to this cluster, compute the mean\n",
        "        if assigned_points.shape[0] > 0:\n",
        "            new_clusters[i] = np.mean(assigned_points, axis=0)\n",
        "\n",
        "    # new_clusters = np.array([])\n",
        "\n",
        "    ###################################\n",
        "\n",
        "    return new_clusters"
      ],
      "metadata": {
        "id": "IiW76omCiLF0"
      },
      "execution_count": 134,
      "outputs": []
    },
    {
      "cell_type": "code",
      "source": [
        "new = calculate_new_centroids(loaded_points,assignment,k)\n",
        "print(new)"
      ],
      "metadata": {
        "colab": {
          "base_uri": "https://localhost:8080/"
        },
        "id": "KPsvc5MaiaTM",
        "outputId": "58f87f39-f87a-4b50-dcd1-d16c4351cd96"
      },
      "execution_count": 136,
      "outputs": [
        {
          "output_type": "stream",
          "name": "stdout",
          "text": [
            "[[ 4.55786854  3.04484483]\n",
            " [ 7.3375955   7.92891037]\n",
            " [13.24103172 13.81011385]]\n"
          ]
        }
      ]
    },
    {
      "cell_type": "code",
      "source": [
        "def fit(points: np.ndarray, k_clusters: int, n_of_iterations: int, error: float = 0.001) -> tuple:\n",
        "    \"\"\"\n",
        "    Fits the k-means clustering model on the dataset.\n",
        "\n",
        "    Parameters:\n",
        "    :param points : Array of data points.\n",
        "    :type points: ndarray with shape (n, 2) and dtype = np.float32\n",
        "\n",
        "    :param k_clusters:  Number of clusters\n",
        "    :type k_clusters: int\n",
        "\n",
        "    :param n_of_iterations:  Maximum number of iterations\n",
        "    :type n_of_iterations: int\n",
        "\n",
        "\n",
        "    :param error: Threshold for convergence.\n",
        "    :type error: float\n",
        "\n",
        "    :return: centroid_points, last_objective\n",
        "    centroid_points: final centroid points\n",
        "    last_objective: final objective funtion\n",
        "\n",
        "    :rtype:\n",
        "    centroid_points: ndarray with shape (k_clusters, 2) and dtype = np.float32\n",
        "    last_objective: float\n",
        "\n",
        "    \"\"\"\n",
        "\n",
        "    ###################################\n",
        "    # Write your own code here #\n",
        "\n",
        "    #centroid_points = np.array([])\n",
        "    #last_objective = 10000.0\n",
        "\n",
        "    #for _ in range(n_of_oterations):\n",
        "     #   pass\n",
        "\n",
        "    # Initialize centroids (you can use your `initialize_clusters` function here)\n",
        "    centroid_points = initialize_clusters(points, k_clusters)\n",
        "\n",
        "    last_objective = float('inf')\n",
        "\n",
        "    for _ in range(n_of_iterations):\n",
        "        # Step 1: Compute distances between points and centroids\n",
        "        distances = compute_distances(points, centroid_points)\n",
        "\n",
        "        # Step 2: Assign each point to the closest centroid\n",
        "        assigned_centroids = assign_centroids(distances)\n",
        "\n",
        "        # Step 3: Calculate new centroids based on the assignments\n",
        "        new_centroids = calculate_new_centroids(points, assigned_centroids, k_clusters)\n",
        "\n",
        "        # Step 4: Calculate the new objective function\n",
        "        current_objective = calculate_objective(assigned_centroids, distances)\n",
        "\n",
        "        # Step 5: Check for convergence (if the objective function doesn't change significantly)\n",
        "        if abs(last_objective - current_objective) < error:\n",
        "            break\n",
        "\n",
        "        # Update last objective and centroids\n",
        "        last_objective = current_objective\n",
        "        centroid_points = new_centroids\n",
        "\n",
        "    ###################################\n",
        "\n",
        "    return centroid_points, last_objective"
      ],
      "metadata": {
        "id": "TUEnOqM7jd1q"
      },
      "execution_count": 143,
      "outputs": []
    },
    {
      "cell_type": "code",
      "source": [
        "error = 0.001\n",
        "n_of_oterations =25\n",
        "final = fit(loaded_points, k,n_of_oterations, error)\n",
        "print(final)"
      ],
      "metadata": {
        "colab": {
          "base_uri": "https://localhost:8080/"
        },
        "id": "yzW8C-__jogw",
        "outputId": "2f77072a-a8d9-445c-cd34-b345b9b18470"
      },
      "execution_count": 144,
      "outputs": [
        {
          "output_type": "stream",
          "name": "stdout",
          "text": [
            "(array([[ 7.7822904 ,  7.52348016],\n",
            "       [ 3.49184097,  2.70762529],\n",
            "       [13.24103172, 13.81011385]]), 436.2519833332742)\n"
          ]
        }
      ]
    },
    {
      "cell_type": "code",
      "source": [
        "plt.figure()\n",
        "plt.scatter(final[k],loaded_points[:,1])"
      ],
      "metadata": {
        "id": "pFG4NNDWksSO"
      },
      "execution_count": null,
      "outputs": []
    },
    {
      "cell_type": "code",
      "source": [],
      "metadata": {
        "id": "vaOuLjZ7lEQ9"
      },
      "execution_count": null,
      "outputs": []
    }
  ]
}