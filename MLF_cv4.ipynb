{
  "nbformat": 4,
  "nbformat_minor": 0,
  "metadata": {
    "colab": {
      "provenance": [],
      "mount_file_id": "1J0FANupoAppBM6WYPSIlTivUctPmr1qc",
      "authorship_tag": "ABX9TyNUSBFC4cEfO12xIWAv0Bn4",
      "include_colab_link": true
    },
    "kernelspec": {
      "name": "python3",
      "display_name": "Python 3"
    },
    "language_info": {
      "name": "python"
    }
  },
  "cells": [
    {
      "cell_type": "markdown",
      "metadata": {
        "id": "view-in-github",
        "colab_type": "text"
      },
      "source": [
        "<a href=\"https://colab.research.google.com/github/hakidaova/MLF/blob/main/MLF_cv4.ipynb\" target=\"_parent\"><img src=\"https://colab.research.google.com/assets/colab-badge.svg\" alt=\"Open In Colab\"/></a>"
      ]
    },
    {
      "cell_type": "markdown",
      "source": [
        "MPA-MLF, Lab 2 - Clustering and K-means\n",
        "What is Clustering?\n",
        "Clustering is an unsupervised machine learning technique used to group similar data points together. The goal of clustering is to find hidden patterns or structures in the data without requiring predefined labels. It is widely used in various applications such as customer segmentation, image compression, anomaly detection, and document classification.\n",
        "\n",
        "K-means\n",
        "K-means is one of the most popular unsupervised machine learning and clustering algorithms and is well known for its simplicity. This algorithm aims to separate unlabeled data into different clusters(subgroups) with the number of clusters represented by the variable K. Data points in the same cluster are very similar, while data points in different clusters are very different. The similarity of data is based on some similarity metric, where the similarity metric can be distance-based, correlation-based, etc.\n",
        "\n",
        "Advantages:\n",
        "\n",
        "Simple and fast for large datasets\n",
        "Works well with well-separated clusters\n",
        "Challenges:\n",
        "\n",
        "Requires specifying K in advance\n",
        "Sensitive to initial centroid selection\n",
        "Assumes spherical clusters (does not work well for non-convex shapes)\n",
        "In our case, we will use distance-based metrics. Any distance-based metrics for numeric variables can be employed, for example:\n",
        "\n",
        "Euclidean distance\n",
        "Manhattan distance\n",
        "Cosine similarity\n",
        "There is an example how K-means works:\n",
        "\n",
        "Imagine you have a bunch of dots scattered on a piece of paper. These dots represent data points, and the goal of the k-means algorithm is to group similar dots into clusters\n",
        "\n",
        "To start, you randomly select k dots from the scatter plot and assign each one to be the centre of a cluster. These k dots are called centroids.\n",
        "\n",
        "Then, you calculate the distance between each dot and each centroid and assign each dot to the closest centroid, effectively grouping the dots into k clusters.\n",
        "\n",
        "Next, you recalculate the centroid of each cluster by finding the average position of all the dots in that cluster.\n",
        "\n",
        "Repeat steps 3 and 4 until the centroids no longer change, meaning the clusters have stabilized.\n",
        "\n",
        "Finally, the algorithm outputs the k clusters and the corresponding centroids.\n",
        "\n",
        "In our case, we would use a Euclidian distance as a metric. Mathematically speaking, the goal would be to minimalize the following objective function:\n",
        "\n",
        "image.png\n",
        "\n",
        "Where:\n",
        "\n",
        "k represents the number of clusters (groups)\n",
        "m represents the number of points\n",
        "u_k represents centroids\n",
        "x_i represents data point\n",
        "w_ik represents weight where wik=1 for data point xi if it belongs to cluster k; otherwise, wik=0.\n",
        "There are some typical applications of using k-means:\n",
        "\n",
        "Customer Segmentation: k-means can segment customers based on their demographic information or purchase behavior. This information can then be used for targeted marketing or to improve the customer experience.\n",
        "\n",
        "Image Compression: k-means can reduce the number of colors in an image while preserving its visual quality. This is done by replacing similar color pixels with a single color, thereby reducing the amount of data required to represent the image.\n",
        "\n",
        "Anomaly Detection: k-means can be used to identify outliers or anomalies in a dataset by clustering similar data points and identifying data points far from the centroids of their respective clusters.\n",
        "\n",
        "Document Clustering: k-means can cluster documents based on their content, for example, to group news articles by topic or categorize customer support tickets.\n",
        "\n",
        "Market Segmentation: k-means can be used to segment a market based on customer characteristics, such as age, income, or spending habits, in order to identify subgroups of customers with similar needs or preferences.\n",
        "\n",
        "Recomended sources:\n",
        "\n",
        "https://towardsdatascience.com/log-book-guide-to-distance-measuring-approaches-for-k-means-clustering-f137807e8e21\n",
        "https://towardsdatascience.com/understanding-k-means-clustering-in-machine-learning-6a6e67336aa1\n",
        "https://realpython.com/k-means-clustering-python/\n",
        "https://medium.com/@rishit.dagli/build-k-means-from-scratch-in-python-e46bf68aa875\n",
        "https://towardsdatascience.com/k-means-clustering-algorithm-applications-evaluation-methods-and-drawbacks-aa03e644b48a\n",
        "https://scikit-learn.org/stable/modules/generated/sklearn.cluster.KMeans.html\n",
        "Exercise 1 - K-means from scratch\n",
        "Implementing K-means\n",
        "In this exercise, the task would be to implement a simple k-means algorithm from scratch, as described above. Let's rewrite the steps to be more readily implementable\n",
        "\n",
        "Steps:\n",
        "\n",
        "Specify the number of clusters K\n",
        "initialize centroids\n",
        "calculate the distance from centroids to all points in datasets\n",
        "assign data points to the closest centroids\n",
        "calculate objective function\n",
        "compute new centroids to the clusters by taking the average of all data points that belong to each cluster\n",
        "repeat steps 2-6. until there is no change in objective function or until the maximum n of iterations is reached\n",
        "Tips:\n",
        "\n",
        "Avoid using loops; if it is unnecessary, instead of using loops, use NumPy functions. There is a list of NumPy functions that you might find helpful:\n",
        "\n",
        "np.argmin()\n",
        "np.where()\n",
        "np.transpose()\n",
        "np.random.permutation()\n",
        "np.random.schuffle()\n",
        "np.linalg.norm()\n",
        "np.arange()\n",
        "np.split()\n",
        "np.random.choice()\n",
        "Since the initial clusters are selected randomly, the algorithm can lead to different results each time it runs. Running the algorithm multiple times and determining the result with the lowest objective function helps obtain the best results.\n",
        "\n",
        "Code\n",
        "Please note that the code structure provided below is only a recommendation. If you prefer, you can use your code structure. If you are familiar with OOP, you can also use it. However, writing your code in one function or not using functions at all is not the recommended approach"
      ],
      "metadata": {
        "id": "fwpX3o3Z07J4"
      }
    },
    {
      "cell_type": "code",
      "execution_count": 1,
      "metadata": {
        "id": "HWOc2pVxF_Eq"
      },
      "outputs": [],
      "source": [
        "import matplotlib.pyplot as plt\n",
        "import copy\n",
        "import numpy as np\n",
        "from numpy.linalg import norm\n",
        "from sklearn.cluster import KMeans"
      ]
    },
    {
      "cell_type": "code",
      "source": [
        "from google.colab import drive\n",
        "drive.mount('/content/drive')"
      ],
      "metadata": {
        "colab": {
          "base_uri": "https://localhost:8080/"
        },
        "id": "JN1gdobHWh6o",
        "outputId": "2513c849-f6dc-4ebe-c520-c12f71687342"
      },
      "execution_count": 2,
      "outputs": [
        {
          "output_type": "stream",
          "name": "stdout",
          "text": [
            "Drive already mounted at /content/drive; to attempt to forcibly remount, call drive.mount(\"/content/drive\", force_remount=True).\n"
          ]
        }
      ]
    },
    {
      "cell_type": "code",
      "source": [
        "#0. Load dataset\n",
        "#Use the following code to load data\n",
        "\n",
        "loaded_points = np.load('/content/drive/MyDrive/Data/k_mean_points.npy')\n",
        "\n",
        "plt.figure()\n",
        "plt.scatter(loaded_points[:,0],loaded_points[:,1])"
      ],
      "metadata": {
        "colab": {
          "base_uri": "https://localhost:8080/",
          "height": 449
        },
        "id": "XlbvSJsWlRvv",
        "outputId": "3f9f322b-cb53-40a3-f22b-da0bbda2c8e2"
      },
      "execution_count": 3,
      "outputs": [
        {
          "output_type": "execute_result",
          "data": {
            "text/plain": [
              "<matplotlib.collections.PathCollection at 0x796612e561d0>"
            ]
          },
          "metadata": {},
          "execution_count": 3
        },
        {
          "output_type": "display_data",
          "data": {
            "text/plain": [
              "<Figure size 640x480 with 1 Axes>"
            ],
            "image/png": "[encoded data removed]"
          },
          "metadata": {}
        }
      ]
    },
    {
      "cell_type": "code",
      "source": [
        "# 1. Specify number of clusters K\n",
        "k = 3"
      ],
      "metadata": {
        "id": "Raka_L_7PnVv"
      },
      "execution_count": 4,
      "outputs": []
    },
    {
      "cell_type": "code",
      "source": [
        "# 2. initialize centroids\n",
        "\n",
        "# There are more techniques, on how to change initial centroids.\n",
        "# In our case, we will take all available points and shuffle them randomly,\n",
        "# then we will choose first k_clusters points as initial centroids.\n",
        "\n",
        "def initialize_clusters(points: np.ndarray, k_clusters: int) -> np.ndarray:\n",
        "    \"\"\"\n",
        "    Initializes and returns k random centroids from the given dataset.\n",
        "\n",
        "    :param points: Array of data points.\n",
        "    :type: points ndarray with shape (n, 2)\n",
        "\n",
        "    :param k_clusters: The number of clusters to form\n",
        "    :type k_clusters: int\n",
        "\n",
        "\n",
        "    :return: initial_clusters\n",
        "    initial_clusters: Array of initialized centroids\n",
        "\n",
        "    :rtype:\n",
        "    initial_clusters: np.array (k_clusters, 2)\n",
        "    :\n",
        "\n",
        "    \"\"\"\n",
        "\n",
        "    ###################################\n",
        "    # Write your own code here\n",
        "\n",
        "    #points = np.random.shuffle(loaded_points)\n",
        "    initial_clusters = points[np.random.choice(points.shape[0], k_clusters, replace = False)]\n",
        "\n",
        "    ###################################\n",
        "\n",
        "    return initial_clusters"
      ],
      "metadata": {
        "id": "meROaO3PPokX"
      },
      "execution_count": 5,
      "outputs": []
    },
    {
      "cell_type": "code",
      "source": [
        "ini = initialize_clusters(loaded_points,k) # initialized clusters with random centroids\n",
        "print(ini)"
      ],
      "metadata": {
        "colab": {
          "base_uri": "https://localhost:8080/"
        },
        "id": "BsbpwOE0VtVE",
        "outputId": "e1c90729-3104-4de3-d1a5-246a8502188c"
      },
      "execution_count": 6,
      "outputs": [
        {
          "output_type": "stream",
          "name": "stdout",
          "text": [
            "[[3.00786776 1.8599373 ]\n",
            " [7.66355388 8.09644192]\n",
            " [7.43786942 5.92059597]]\n"
          ]
        }
      ]
    },
    {
      "cell_type": "code",
      "source": [
        "# 3. Calculate distance from centroids to all points in datasets\n",
        "\n",
        "# 3.1 Fistly, create a function to calculate distance\n",
        "# from one centroid to all points in the dataset\n",
        "\n",
        "def calculate_metric(points: np.ndarray, centroid: np.ndarray) -> np.ndarray:\n",
        "    \"\"\"\n",
        "    Calculates the distances between the given centroid and every other point.\n",
        "\n",
        "    Parameters:\n",
        "    :param points: Array of n data points.\n",
        "    :type points: ndarray with shape (n, 2)\n",
        "\n",
        "    :param centroid: A single centroid\n",
        "    :type centroid: ndarray with shape (1, 2)\n",
        "\n",
        "    :return: distances_array\n",
        "    distances_array: Array of distances from point to centroid\n",
        "\n",
        "    :rtype:\n",
        "    distances_array: ndarray with shape (n,)\n",
        "    :\n",
        "    \"\"\"\n",
        "\n",
        "    ###################################\n",
        "    # Write your own code here\n",
        "    distances_array = np.linalg.norm(points - centroid, axis = 1)\n",
        "    #distances_array = np.array([])\n",
        "\n",
        "\n",
        "    ###################################\n",
        "\n",
        "    return distances_array"
      ],
      "metadata": {
        "id": "qUCX_d8mVbzl"
      },
      "execution_count": 7,
      "outputs": []
    },
    {
      "cell_type": "code",
      "source": [
        "distance = calculate_metric(loaded_points,ini[0,:]) # distance of every point to the 1st ccentroid\n",
        "print(distance)"
      ],
      "metadata": {
        "colab": {
          "base_uri": "https://localhost:8080/"
        },
        "id": "HibcxWQrZysn",
        "outputId": "b83ad54c-7f33-487d-9e4f-9e4d2f47143d"
      },
      "execution_count": 8,
      "outputs": [
        {
          "output_type": "stream",
          "name": "stdout",
          "text": [
            "[ 1.8446794   3.95430449  4.5569066   4.27173183  4.50590483  4.85594092\n",
            "  1.7489107   3.50707359  3.43681582  2.07320624  2.2260678   3.11545123\n",
            "  0.          3.90730009  1.92257526  1.69827885  2.51086459  2.91359409\n",
            "  3.26743142  3.49784037  9.25133042  7.02011215  9.35039337  8.79538025\n",
            "  8.57758207  9.34715438  6.66821237 10.14494363  7.78263471  8.33872909\n",
            "  8.32378362 11.63247196  7.66342859  5.09337414  6.00948113  7.67827127\n",
            "  7.59548181 10.1996878   8.88412875  6.65109566 16.98477517 18.74810844\n",
            " 16.55352947 16.76279061 15.06831274 18.56513516 15.29294583 14.0312504\n",
            " 13.66049709 12.50936596 12.93343353 17.29681823 17.34290445 16.07456988\n",
            " 16.05023583 16.37862038 18.3919078  19.02553775 17.0361406  12.65625506]\n"
          ]
        }
      ]
    },
    {
      "cell_type": "code",
      "source": [
        "# 3.2 Secondly, create a function to calculate distance between points\n",
        "# and all centroids using function from 3.1\n",
        "\n",
        "def compute_distances(points: np.ndarray, centroids_points: np.ndarray) -> np.ndarray:\n",
        "    \"\"\"\n",
        "    Computes and returns the distances of every point from every centroid.\n",
        "\n",
        "    Parameters:\n",
        "    :param points: Array of n data points.\n",
        "    :type points: ndarray with shape (n, 2)\n",
        "\n",
        "    :param centroids_points: Array of all centroid points\n",
        "    :type centroids_points: ndarray with shape (k_clusters, 2)\n",
        "\n",
        "\n",
        "    :return: distances_array\n",
        "    distances_array: 2D array with distances of each point to each centroid.\n",
        "\n",
        "    :rtype:\n",
        "    distances_array: ndarray of shape (n, k_clusters)\n",
        "    \"\"\"\n",
        "    ###################################\n",
        "    # Write your own code here\n",
        "\n",
        "    distances_array = np.zeros((points.shape[0], centroids_points.shape[0])) # an empty array to store distances\n",
        "\n",
        "    for i, centroid in enumerate(centroids_points): # for every centroid\n",
        "    # for i in range(k):\n",
        "        distances_array[:, i] = calculate_metric(points, centroid) # calculate the distance from each point\n",
        "    ###################################\n",
        "\n",
        "    return distances_array"
      ],
      "metadata": {
        "id": "uTWjurCKaRGn"
      },
      "execution_count": 9,
      "outputs": []
    },
    {
      "cell_type": "code",
      "source": [
        "distances = compute_distances(loaded_points,ini) # distance of every point from every centroid\n",
        "print(distances)"
      ],
      "metadata": {
        "colab": {
          "base_uri": "https://localhost:8080/"
        },
        "id": "m4ROv9eweM5J",
        "outputId": "fa0b7c78-3f7d-4e7a-b5b0-da5e124e2333"
      },
      "execution_count": 10,
      "outputs": [
        {
          "output_type": "stream",
          "name": "stdout",
          "text": [
            "[[ 1.8446794   6.90589997  4.87440722]\n",
            " [ 3.95430449  4.66760009  2.51509733]\n",
            " [ 4.5569066   3.25442249  1.98774009]\n",
            " [ 4.27173183  3.51335632  2.03755842]\n",
            " [ 4.50590483  3.46799395  1.50375814]\n",
            " [ 4.85594092  7.51132791  6.98453822]\n",
            " [ 1.7489107   6.66742634  4.67378889]\n",
            " [ 3.50707359  4.40222829  3.06677209]\n",
            " [ 3.43681582  5.8542728   4.94188304]\n",
            " [ 2.07320624  9.75708357  8.06281919]\n",
            " [ 2.2260678  10.00633713  8.18890544]\n",
            " [ 3.11545123  7.98482077  5.82710148]\n",
            " [ 0.          7.78263471  6.00948113]\n",
            " [ 3.90730009  8.07416463  5.88920339]\n",
            " [ 1.92257526  8.36393864  6.9539522 ]\n",
            " [ 1.69827885  8.65319069  7.14825087]\n",
            " [ 2.51086459  6.43221341  5.22860293]\n",
            " [ 2.91359409  6.90863137  5.84685493]\n",
            " [ 3.26743142  7.71818111  5.55017663]\n",
            " [ 3.49784037  4.38967706  3.02712868]\n",
            " [ 9.25133042  1.47987912  3.59572616]\n",
            " [ 7.02011215  0.78663209  1.45556863]\n",
            " [ 9.35039337  2.4579676   4.52489289]\n",
            " [ 8.79538025  2.98543817  4.71110315]\n",
            " [ 8.57758207  2.0570192   2.58845619]\n",
            " [ 9.34715438  1.58708064  3.53696555]\n",
            " [ 6.66821237  1.55717882  2.23329589]\n",
            " [10.14494363  3.08150103  4.1447644 ]\n",
            " [ 7.78263471  0.          2.18751893]\n",
            " [ 8.33872909  0.77023575  2.48262395]\n",
            " [ 8.32378362  4.15460432  3.27907472]\n",
            " [11.63247196  3.84996592  5.84448785]\n",
            " [ 7.66342859  3.40523456  2.39870506]\n",
            " [ 5.09337414  2.70371931  1.2108791 ]\n",
            " [ 6.00948113  2.18751893  0.        ]\n",
            " [ 7.67827127  1.81656751  1.69975264]\n",
            " [ 7.59548181  1.88237757  3.30082228]\n",
            " [10.1996878   2.50879339  4.66640357]\n",
            " [ 8.88412875  1.28678965  2.98007462]\n",
            " [ 6.65109566  1.99064126  0.69088473]\n",
            " [16.98477517  9.29267261 11.38363176]\n",
            " [18.74810844 11.1331907  12.74210649]\n",
            " [16.55352947  8.77985096 10.77417457]\n",
            " [16.76279061  8.9857745  10.87198269]\n",
            " [15.06831274  7.43575382  9.07143269]\n",
            " [18.56513516 10.78250875 12.70878321]\n",
            " [15.29294583  7.69823761  9.28868475]\n",
            " [14.0312504   6.32769194  8.06622721]\n",
            " [13.66049709  6.35780919  7.66334865]\n",
            " [12.50936596  5.15761869  6.50266825]\n",
            " [12.93343353  5.71176296  6.943503  ]\n",
            " [17.29681823  9.54231023 11.35837862]\n",
            " [17.34290445  9.61502089 11.37870325]\n",
            " [16.07456988  8.38847478 10.48802993]\n",
            " [16.05023583  9.06633522 10.14366501]\n",
            " [16.37862038  8.66031209 10.73486338]\n",
            " [18.3919078  10.63351143 12.4547982 ]\n",
            " [19.02553775 11.29988396 13.05512898]\n",
            " [17.0361406   9.40361871 11.52561477]\n",
            " [12.65625506  5.01112703  6.6747873 ]]\n"
          ]
        }
      ]
    },
    {
      "cell_type": "code",
      "source": [
        "# 4. Assign datapoints to the closest centroids\n",
        "\n",
        "def assign_centroids(distances: np.ndarray) -> np.ndarray:\n",
        "    \"\"\"\n",
        "    Assigns each point to the closest centroid based on the distances.\n",
        "\n",
        "    Parameters:\n",
        "    :param distances: 2D array with distances of each point to each centroid.\n",
        "    :type distances: ndarray with shape (k_clusters, n)\n",
        "\n",
        "    :return: assigned_clusters\n",
        "    assigned_clusters: Array indicating the closest centroid for each data point.\n",
        "\n",
        "    :rtype:\n",
        "    assigned_centroids: ndarray with shape (1, n) and dtype = np.int32\n",
        "    \"\"\"\n",
        "\n",
        "    ###################################\n",
        "    # Write your own code here #\n",
        "\n",
        "    assigned_centroids = np.argmin(distances, axis=1) # returns index of the first occurence of minimum value in distances along axis 1 (rows)\n",
        "    ###################################\n",
        "\n",
        "    return assigned_centroids"
      ],
      "metadata": {
        "id": "KxDwM3YnefOq"
      },
      "execution_count": 11,
      "outputs": []
    },
    {
      "cell_type": "code",
      "source": [
        "assigned = assign_centroids(distances) # assigned centroids for each point\n",
        "print(assigned)"
      ],
      "metadata": {
        "colab": {
          "base_uri": "https://localhost:8080/"
        },
        "id": "XCXKfmC-ezVk",
        "outputId": "987b18ab-1681-482c-f0eb-b0bf6275f1ee"
      },
      "execution_count": 12,
      "outputs": [
        {
          "output_type": "stream",
          "name": "stdout",
          "text": [
            "[0 2 2 2 2 0 0 2 0 0 0 0 0 0 0 0 0 0 0 2 1 1 1 1 1 1 1 1 1 1 2 1 2 2 2 2 1\n",
            " 1 1 2 1 1 1 1 1 1 1 1 1 1 1 1 1 1 1 1 1 1 1 1]\n"
          ]
        }
      ]
    },
    {
      "cell_type": "code",
      "source": [
        "# 5. Calculate objective function\n",
        "\n",
        "def calculate_objective(assigned_centroids: np.ndarray, distances: np.ndarray) -> np.ndarray:\n",
        "    \"\"\"\n",
        "    Calculates and returns the objective function value for the clustering.\n",
        "\n",
        "    Parameters:\n",
        "    :param assigned_centroids: Array indicating the cluster assignment for each point.\n",
        "    :type assigned_centroids: ndarray with shape (1, n) and and dtype = np.int64\n",
        "\n",
        "    :param distances: 2D array with distances of each point to each centroid\n",
        "    :type distances: ndarray with shape (k_clusters, n) and and dtype = np.float64\n",
        "\n",
        "    :return: objective_function_value\n",
        "    objective_function_value: Objective function value.\n",
        "\n",
        "    :rtype:\n",
        "    objective_function_value: float32\n",
        "\n",
        "\n",
        "    \"\"\"\n",
        "    ###################################\n",
        "    # Write your own code here #\n",
        "\n",
        "    objective_function_value = 0.0 # float32\n",
        "\n",
        "    for i in range(len(assigned_centroids)): # for every point\n",
        "        assigned_centroid_index = assigned_centroids[i]  # get the index of its assigned centroid\n",
        "        objective_function_value += distances[i, assigned_centroid_index]**2  # and add the squared distance to its assigned centroid\n",
        "\n",
        "    ###################################\n",
        "\n",
        "    return objective_function_value"
      ],
      "metadata": {
        "id": "RCvmYl9yfHA8"
      },
      "execution_count": 13,
      "outputs": []
    },
    {
      "cell_type": "code",
      "source": [
        "clustering = calculate_objective(assigned, distances)\n",
        "print(clustering)"
      ],
      "metadata": {
        "colab": {
          "base_uri": "https://localhost:8080/"
        },
        "id": "QNSrcV6cg3uq",
        "outputId": "f971ad38-4547-4689-8564-f2e84fa5ac4c"
      },
      "execution_count": 14,
      "outputs": [
        {
          "output_type": "stream",
          "name": "stdout",
          "text": [
            "1732.0725503767114\n"
          ]
        }
      ]
    },
    {
      "cell_type": "code",
      "source": [
        "# 6. Compute new controids to the clusters by taking the average of the all data\n",
        "# points that belong to each cluster\n",
        "\n",
        "def calculate_new_centroids(points: np.ndarray, assigned_centroids: np.ndarray, k_clusters: int) -> np.ndarray:\n",
        "    \"\"\"\n",
        "    Computes new centroids based on the current cluster assignments.\n",
        "\n",
        "    Parameters:\n",
        "    :param points: Array of n data points.\n",
        "    :type points: ndarray with shape (n, 2)\n",
        "\n",
        "    :param assigned_centroids: Array indicating the closest centroid for each data point.\n",
        "    :type assigned_centroids: ndarray with shape (1, n) and dtype = np.int32\n",
        "\n",
        "\n",
        "    :param k_clusters: Number of clusters.\n",
        "    :type k_clusters: int\n",
        "\n",
        "\n",
        "    :return: new_clusters\n",
        "    new_clusters: new cluster points\n",
        "\n",
        "    :rtype:\n",
        "    new_clusters: ndarray with shape (1, n) and dtype = np.float32\n",
        "    \"\"\"\n",
        "\n",
        "    ###################################\n",
        "    # Write your own code here #\n",
        "\n",
        "    new_clusters = np.zeros((k_clusters, points.shape[1])) # new centroids array\n",
        "\n",
        "    # calculate the mean of the points assigned to it\n",
        "    for i in range(k_clusters): # for each cluster\n",
        "        assigned_points = points[assigned_centroids == i] # indices of every point assigned to current cluster\n",
        "        if assigned_points.shape[0] > 0: # if any poire ants assigned to a certaint cluster\n",
        "            new_clusters[i] = np.mean(assigned_points, axis=0) # calculate the mean value of points assigned to it and make it a new centroid\n",
        "\n",
        "    # new_clusters = np.array([])\n",
        "\n",
        "    ###################################\n",
        "\n",
        "    return new_clusters"
      ],
      "metadata": {
        "id": "IiW76omCiLF0"
      },
      "execution_count": 15,
      "outputs": []
    },
    {
      "cell_type": "code",
      "source": [
        "new = calculate_new_centroids(loaded_points,assigned,k) # new centroidds\n",
        "print(new)"
      ],
      "metadata": {
        "colab": {
          "base_uri": "https://localhost:8080/"
        },
        "id": "KPsvc5MaiaTM",
        "outputId": "8942cfee-a5f1-4e12-d176-fc037d3f23ff"
      },
      "execution_count": 16,
      "outputs": [
        {
          "output_type": "stream",
          "name": "stdout",
          "text": [
            "[[ 3.1231399   2.31740435]\n",
            " [11.20270546 11.89189922]\n",
            " [ 7.00145058  5.39919582]]\n"
          ]
        }
      ]
    },
    {
      "cell_type": "code",
      "source": [
        "# 7. repeat steps 2-6. until there is no change in objective\n",
        "# function or until the maximum n of iterations is reached\n",
        "\n",
        "def fit(points: np.ndarray, k_clusters: int, n_of_iterations: int, error: float = 0.001) -> tuple:\n",
        "    \"\"\"\n",
        "    Fits the k-means clustering model on the dataset.\n",
        "\n",
        "    Parameters:\n",
        "    :param points : Array of data points.\n",
        "    :type points: ndarray with shape (n, 2) and dtype = np.float32\n",
        "\n",
        "    :param k_clusters:  Number of clusters\n",
        "    :type k_clusters: int\n",
        "\n",
        "    :param n_of_iterations:  Maximum number of iterations\n",
        "    :type n_of_iterations: int\n",
        "\n",
        "\n",
        "    :param error: Threshold for convergence.\n",
        "    :type error: float\n",
        "\n",
        "    :return: centroid_points, last_objective\n",
        "    centroid_points: final centroid points\n",
        "    last_objective: final objective funtion\n",
        "\n",
        "    :rtype:\n",
        "    centroid_points: ndarray with shape (k_clusters, 2) and dtype = np.float32\n",
        "    last_objective: float\n",
        "\n",
        "    \"\"\"\n",
        "\n",
        "    ###################################\n",
        "    # Write your own code here #\n",
        "\n",
        "    #centroid_points = np.array([])\n",
        "    #last_objective = 10000.0\n",
        "\n",
        "    #for _ in range(n_of_oterations):\n",
        "     #   pass\n",
        "\n",
        "    # Initialize centroids (you can use your `initialize_clusters` function here)\n",
        "    centroid_points = initialize_clusters(points, k_clusters)\n",
        "\n",
        "    last_objective = float('inf')\n",
        "\n",
        "    for _ in range(n_of_iterations):\n",
        "        # Step 1: Compute distances between points and centroids\n",
        "        distances = compute_distances(points, centroid_points)\n",
        "\n",
        "        # Step 2: Assign each point to the closest centroid\n",
        "        assigned_centroids = assign_centroids(distances)\n",
        "\n",
        "        # Step 3: Calculate new centroids based on the assignments\n",
        "        new_centroids = calculate_new_centroids(points, assigned_centroids, k_clusters)\n",
        "\n",
        "        # Step 4: Calculate the new objective function\n",
        "        current_objective = calculate_objective(assigned_centroids, distances)\n",
        "\n",
        "        # Step 5: Check for convergence (if the objective function doesn't change significantly)\n",
        "        if abs(last_objective - current_objective) < error:\n",
        "            break\n",
        "\n",
        "        # Update last objective and centroids\n",
        "        last_objective = current_objective\n",
        "        centroid_points = new_centroids\n",
        "\n",
        "    ###################################\n",
        "\n",
        "    return centroid_points, last_objective"
      ],
      "metadata": {
        "id": "TUEnOqM7jd1q"
      },
      "execution_count": 17,
      "outputs": []
    },
    {
      "cell_type": "code",
      "source": [
        "error = 0.001\n",
        "n_of_iterations = 1000\n",
        "final = fit(loaded_points, k,n_of_iterations, error)\n",
        "print(final)"
      ],
      "metadata": {
        "colab": {
          "base_uri": "https://localhost:8080/"
        },
        "id": "yzW8C-__jogw",
        "outputId": "2fca310f-7681-49b3-b5b3-7727f304cce9"
      },
      "execution_count": 18,
      "outputs": [
        {
          "output_type": "stream",
          "name": "stdout",
          "text": [
            "(array([[ 7.7822904 ,  7.52348016],\n",
            "       [ 3.49184097,  2.70762529],\n",
            "       [13.24103172, 13.81011385]]), np.float64(436.2519833332742))\n"
          ]
        }
      ]
    },
    {
      "cell_type": "code",
      "source": [
        "\n",
        "plt.figure()\n",
        "# plt.scatter(loaded_points[:,0], loaded_points[:,1], color = 'black')\n",
        "\n",
        "# for i in range (k): a loop would be great\n",
        "plt.scatter(final[0][0,0],final[0][0,1], color ='magenta', edgecolor = 'black', linewidth = 2)\n",
        "plt.scatter(final[0][1,0],final[0][1,1], color = 'cyan', edgecolor = 'black', linewidth = 2)\n",
        "plt.scatter(final[0][2,0],final[0][2,1], color ='yellow', edgecolor = 'black', linewidth = 2)\n",
        "\n",
        "new_assign = assign_centroids(compute_distances(loaded_points, final[0]))\n",
        "print(new_assign)\n",
        "\n",
        "plt.scatter(loaded_points[new_assign==0,0],loaded_points[new_assign==0,1], color ='magenta')\n",
        "plt.scatter(loaded_points[new_assign==1,0],loaded_points[new_assign==1,1], color ='cyan')\n",
        "plt.scatter(loaded_points[new_assign==2,0],loaded_points[new_assign==2,1], color ='yellow')\n"
      ],
      "metadata": {
        "id": "pFG4NNDWksSO",
        "colab": {
          "base_uri": "https://localhost:8080/",
          "height": 484
        },
        "outputId": "ed3cbdfe-aaec-4edb-df71-95bd5373d1b3"
      },
      "execution_count": 19,
      "outputs": [
        {
          "output_type": "stream",
          "name": "stdout",
          "text": [
            "[1 1 0 0 0 1 1 1 1 1 1 1 1 1 1 1 1 1 1 1 0 0 0 0 0 0 0 0 0 0 0 2 0 0 0 0 0\n",
            " 0 0 0 2 2 2 2 2 2 2 2 2 2 2 2 2 2 2 2 2 2 2 2]\n"
          ]
        },
        {
          "output_type": "execute_result",
          "data": {
            "text/plain": [
              "<matplotlib.collections.PathCollection at 0x79661071d650>"
            ]
          },
          "metadata": {},
          "execution_count": 19
        },
        {
          "output_type": "display_data",
          "data": {
            "text/plain": [
              "<Figure size 640x480 with 1 Axes>"
            ],
            "image/png": "[encoded data removed]"
          },
          "metadata": {}
        }
      ]
    },
    {
      "cell_type": "markdown",
      "source": [
        "Evaluation methods - How to determine k?\n",
        "One of the disadvantages of using k-means is that it requires a number of centroids k as an input, and it is not usually that obvious. Some methods exist to choose the correct number of centroids at the beginning. In this part of the lecture, we will describe two methods to select the right k value: Elbow method and Silhouette analysis\n",
        "\n",
        "Elbow method\n",
        "The Elbow Method is a technique used in determining the optimal number of clusters for k-means clustering. The basic idea is to plot the explained variation as a function of the number of clusters and pick the elbow of the curve as the number of clusters to use. In the picture below you can see that the best k value is 3\n",
        "\n",
        "image.png image.png\n",
        "\n",
        "The main advantage of this method that its very simple and easy to implement, on the other hand sometimes it is not very clear where the elbow is\n",
        "\n",
        "Silhouette analysis\n",
        "Silhouette analysis is a method to evaluate the quality of clustering results by measuring how similar each data point is to its own cluster compared to other clusters. A high silhouette score indicates that the data points in a cluster are well-separated from other clusters and that the clustering solution is good.\n",
        "\n",
        "The silhouette score can be calculated using the following formula. This measure has a range of [-1, 1] and it is calculated for each sample in the dataset\n",
        "\n",
        "image.png\n",
        "\n",
        "where:\n",
        "\n",
        "a_i represents the average distance of that point with all other points in the same clusters\n",
        "b_i represents the average distance of that point with all the points in the closest cluster to its cluster\n",
        "if\n",
        "\n",
        "is 0 –> the sample is very close to the neighboring clusters.\n",
        "is 1 –> the sample is far away from the neighboring clusters.\n",
        "is -1 –> the sample is assigned to the wrong clusters."
      ],
      "metadata": {
        "id": "w-6W2fbi1Env"
      }
    },
    {
      "cell_type": "code",
      "source": [
        "# Exercise 2 - Implementing an Elbow Method\n",
        "# Implementing an elbow method is simple,\n",
        "\n",
        "# 1. Create a vector of possible k values\n",
        "# 2. Fit your data using different k values and save the objective function value\n",
        "# 3. Plot objective function values in terms of k values\n",
        "# 4. Find an elbow\n",
        "\n",
        "k_all = range(2, 10)\n",
        "all_objective = []\n",
        "\n",
        "\n",
        "#WRITE YOUR CODE HERE\n",
        "plt.figure()\n",
        "plt.plot(k_all, all_objective)\n",
        "plt.xlabel('K clusters')\n",
        "plt.ylabel('Sum of squared distance')"
      ],
      "metadata": {
        "id": "3ue3T1ghDFyM",
        "colab": {
          "base_uri": "https://localhost:8080/",
          "height": 774
        },
        "outputId": "094ae3be-fce6-4fe8-cba9-498f725c2810"
      },
      "execution_count": 20,
      "outputs": [
        {
          "output_type": "error",
          "ename": "ValueError",
          "evalue": "x and y must have same first dimension, but have shapes (8,) and (0,)",
          "traceback": [
            "\u001b[0;31m---------------------------------------------------------------------------\u001b[0m",
            "\u001b[0;31mValueError\u001b[0m                                Traceback (most recent call last)",
            "\u001b[0;32m<ipython-input-20-52340d7701dc>\u001b[0m in \u001b[0;36m<cell line: 0>\u001b[0;34m()\u001b[0m\n\u001b[1;32m     13\u001b[0m \u001b[0;31m#WRITE YOUR CODE HERE\u001b[0m\u001b[0;34m\u001b[0m\u001b[0;34m\u001b[0m\u001b[0m\n\u001b[1;32m     14\u001b[0m \u001b[0mplt\u001b[0m\u001b[0;34m.\u001b[0m\u001b[0mfigure\u001b[0m\u001b[0;34m(\u001b[0m\u001b[0;34m)\u001b[0m\u001b[0;34m\u001b[0m\u001b[0;34m\u001b[0m\u001b[0m\n\u001b[0;32m---> 15\u001b[0;31m \u001b[0mplt\u001b[0m\u001b[0;34m.\u001b[0m\u001b[0mplot\u001b[0m\u001b[0;34m(\u001b[0m\u001b[0mk_all\u001b[0m\u001b[0;34m,\u001b[0m \u001b[0mall_objective\u001b[0m\u001b[0;34m)\u001b[0m\u001b[0;34m\u001b[0m\u001b[0;34m\u001b[0m\u001b[0m\n\u001b[0m\u001b[1;32m     16\u001b[0m \u001b[0mplt\u001b[0m\u001b[0;34m.\u001b[0m\u001b[0mxlabel\u001b[0m\u001b[0;34m(\u001b[0m\u001b[0;34m'K clusters'\u001b[0m\u001b[0;34m)\u001b[0m\u001b[0;34m\u001b[0m\u001b[0;34m\u001b[0m\u001b[0m\n\u001b[1;32m     17\u001b[0m \u001b[0mplt\u001b[0m\u001b[0;34m.\u001b[0m\u001b[0mylabel\u001b[0m\u001b[0;34m(\u001b[0m\u001b[0;34m'Sum of squared distance'\u001b[0m\u001b[0;34m)\u001b[0m\u001b[0;34m\u001b[0m\u001b[0;34m\u001b[0m\u001b[0m\n",
            "\u001b[0;32m/usr/local/lib/python3.11/dist-packages/matplotlib/pyplot.py\u001b[0m in \u001b[0;36mplot\u001b[0;34m(scalex, scaley, data, *args, **kwargs)\u001b[0m\n\u001b[1;32m   3827\u001b[0m     \u001b[0;34m**\u001b[0m\u001b[0mkwargs\u001b[0m\u001b[0;34m,\u001b[0m\u001b[0;34m\u001b[0m\u001b[0;34m\u001b[0m\u001b[0m\n\u001b[1;32m   3828\u001b[0m ) -> list[Line2D]:\n\u001b[0;32m-> 3829\u001b[0;31m     return gca().plot(\n\u001b[0m\u001b[1;32m   3830\u001b[0m         \u001b[0;34m*\u001b[0m\u001b[0margs\u001b[0m\u001b[0;34m,\u001b[0m\u001b[0;34m\u001b[0m\u001b[0;34m\u001b[0m\u001b[0m\n\u001b[1;32m   3831\u001b[0m         \u001b[0mscalex\u001b[0m\u001b[0;34m=\u001b[0m\u001b[0mscalex\u001b[0m\u001b[0;34m,\u001b[0m\u001b[0;34m\u001b[0m\u001b[0;34m\u001b[0m\u001b[0m\n",
            "\u001b[0;32m/usr/local/lib/python3.11/dist-packages/matplotlib/axes/_axes.py\u001b[0m in \u001b[0;36mplot\u001b[0;34m(self, scalex, scaley, data, *args, **kwargs)\u001b[0m\n\u001b[1;32m   1775\u001b[0m         \"\"\"\n\u001b[1;32m   1776\u001b[0m         \u001b[0mkwargs\u001b[0m \u001b[0;34m=\u001b[0m \u001b[0mcbook\u001b[0m\u001b[0;34m.\u001b[0m\u001b[0mnormalize_kwargs\u001b[0m\u001b[0;34m(\u001b[0m\u001b[0mkwargs\u001b[0m\u001b[0;34m,\u001b[0m \u001b[0mmlines\u001b[0m\u001b[0;34m.\u001b[0m\u001b[0mLine2D\u001b[0m\u001b[0;34m)\u001b[0m\u001b[0;34m\u001b[0m\u001b[0;34m\u001b[0m\u001b[0m\n\u001b[0;32m-> 1777\u001b[0;31m         \u001b[0mlines\u001b[0m \u001b[0;34m=\u001b[0m \u001b[0;34m[\u001b[0m\u001b[0;34m*\u001b[0m\u001b[0mself\u001b[0m\u001b[0;34m.\u001b[0m\u001b[0m_get_lines\u001b[0m\u001b[0;34m(\u001b[0m\u001b[0mself\u001b[0m\u001b[0;34m,\u001b[0m \u001b[0;34m*\u001b[0m\u001b[0margs\u001b[0m\u001b[0;34m,\u001b[0m \u001b[0mdata\u001b[0m\u001b[0;34m=\u001b[0m\u001b[0mdata\u001b[0m\u001b[0;34m,\u001b[0m \u001b[0;34m**\u001b[0m\u001b[0mkwargs\u001b[0m\u001b[0;34m)\u001b[0m\u001b[0;34m]\u001b[0m\u001b[0;34m\u001b[0m\u001b[0;34m\u001b[0m\u001b[0m\n\u001b[0m\u001b[1;32m   1778\u001b[0m         \u001b[0;32mfor\u001b[0m \u001b[0mline\u001b[0m \u001b[0;32min\u001b[0m \u001b[0mlines\u001b[0m\u001b[0;34m:\u001b[0m\u001b[0;34m\u001b[0m\u001b[0;34m\u001b[0m\u001b[0m\n\u001b[1;32m   1779\u001b[0m             \u001b[0mself\u001b[0m\u001b[0;34m.\u001b[0m\u001b[0madd_line\u001b[0m\u001b[0;34m(\u001b[0m\u001b[0mline\u001b[0m\u001b[0;34m)\u001b[0m\u001b[0;34m\u001b[0m\u001b[0;34m\u001b[0m\u001b[0m\n",
            "\u001b[0;32m/usr/local/lib/python3.11/dist-packages/matplotlib/axes/_base.py\u001b[0m in \u001b[0;36m__call__\u001b[0;34m(self, axes, data, return_kwargs, *args, **kwargs)\u001b[0m\n\u001b[1;32m    295\u001b[0m                 \u001b[0mthis\u001b[0m \u001b[0;34m+=\u001b[0m \u001b[0margs\u001b[0m\u001b[0;34m[\u001b[0m\u001b[0;36m0\u001b[0m\u001b[0;34m]\u001b[0m\u001b[0;34m,\u001b[0m\u001b[0;34m\u001b[0m\u001b[0;34m\u001b[0m\u001b[0m\n\u001b[1;32m    296\u001b[0m                 \u001b[0margs\u001b[0m \u001b[0;34m=\u001b[0m \u001b[0margs\u001b[0m\u001b[0;34m[\u001b[0m\u001b[0;36m1\u001b[0m\u001b[0;34m:\u001b[0m\u001b[0;34m]\u001b[0m\u001b[0;34m\u001b[0m\u001b[0;34m\u001b[0m\u001b[0m\n\u001b[0;32m--> 297\u001b[0;31m             yield from self._plot_args(\n\u001b[0m\u001b[1;32m    298\u001b[0m                 \u001b[0maxes\u001b[0m\u001b[0;34m,\u001b[0m \u001b[0mthis\u001b[0m\u001b[0;34m,\u001b[0m \u001b[0mkwargs\u001b[0m\u001b[0;34m,\u001b[0m \u001b[0mambiguous_fmt_datakey\u001b[0m\u001b[0;34m=\u001b[0m\u001b[0mambiguous_fmt_datakey\u001b[0m\u001b[0;34m,\u001b[0m\u001b[0;34m\u001b[0m\u001b[0;34m\u001b[0m\u001b[0m\n\u001b[1;32m    299\u001b[0m                 \u001b[0mreturn_kwargs\u001b[0m\u001b[0;34m=\u001b[0m\u001b[0mreturn_kwargs\u001b[0m\u001b[0;34m\u001b[0m\u001b[0;34m\u001b[0m\u001b[0m\n",
            "\u001b[0;32m/usr/local/lib/python3.11/dist-packages/matplotlib/axes/_base.py\u001b[0m in \u001b[0;36m_plot_args\u001b[0;34m(self, axes, tup, kwargs, return_kwargs, ambiguous_fmt_datakey)\u001b[0m\n\u001b[1;32m    492\u001b[0m \u001b[0;34m\u001b[0m\u001b[0m\n\u001b[1;32m    493\u001b[0m         \u001b[0;32mif\u001b[0m \u001b[0mx\u001b[0m\u001b[0;34m.\u001b[0m\u001b[0mshape\u001b[0m\u001b[0;34m[\u001b[0m\u001b[0;36m0\u001b[0m\u001b[0;34m]\u001b[0m \u001b[0;34m!=\u001b[0m \u001b[0my\u001b[0m\u001b[0;34m.\u001b[0m\u001b[0mshape\u001b[0m\u001b[0;34m[\u001b[0m\u001b[0;36m0\u001b[0m\u001b[0;34m]\u001b[0m\u001b[0;34m:\u001b[0m\u001b[0;34m\u001b[0m\u001b[0;34m\u001b[0m\u001b[0m\n\u001b[0;32m--> 494\u001b[0;31m             raise ValueError(f\"x and y must have same first dimension, but \"\n\u001b[0m\u001b[1;32m    495\u001b[0m                              f\"have shapes {x.shape} and {y.shape}\")\n\u001b[1;32m    496\u001b[0m         \u001b[0;32mif\u001b[0m \u001b[0mx\u001b[0m\u001b[0;34m.\u001b[0m\u001b[0mndim\u001b[0m \u001b[0;34m>\u001b[0m \u001b[0;36m2\u001b[0m \u001b[0;32mor\u001b[0m \u001b[0my\u001b[0m\u001b[0;34m.\u001b[0m\u001b[0mndim\u001b[0m \u001b[0;34m>\u001b[0m \u001b[0;36m2\u001b[0m\u001b[0;34m:\u001b[0m\u001b[0;34m\u001b[0m\u001b[0;34m\u001b[0m\u001b[0m\n",
            "\u001b[0;31mValueError\u001b[0m: x and y must have same first dimension, but have shapes (8,) and (0,)"
          ]
        },
        {
          "output_type": "display_data",
          "data": {
            "text/plain": [
              "<Figure size 640x480 with 1 Axes>"
            ],
            "image/png": "[encoded data removed]"
          },
          "metadata": {}
        }
      ]
    },
    {
      "cell_type": "code",
      "source": [
        "# Exercise 3 - Image Compression\n",
        "# In this exercise, the task would be to implement simple image compression using the k-means algorithm. You can use an image in the directory Data\\. This time, we will use a library that implements k-means for us - sklearn https://scikit-learn.org/stable/modules/generated/sklearn.cluster.KMeans.html. To load the image you can use openCv or matplotlib (or anything else)\n",
        "\n",
        "# Steps\n",
        "# 1. Firstly reshape your image to 2D array with shape (image.width*image.height, n_of_colour_channels)\n",
        "# 2. Initialize the K_means algorithm, where K would be equal to the number of colours in the compressed image\n",
        "# 3. check cluster centroids and convert them to integers - these are your new colours (kmeans.cluster_centers_ could be useful)\n",
        "# 4. replace your 2D array colors with newly generated colors\n",
        "# 5. reshape your 2D array to the original image shape\n",
        "\n",
        "# Tips:\n",
        "# it takes a couple of seconds to compress the attached image. For debugging purposes, you can use a custom smaller image\n",
        "# the implementation can be done in a single function\n",
        "\n",
        "from matplotlib.image import imread\n",
        "from sklearn.cluster import KMeans\n",
        "import numpy as np\n"
      ],
      "metadata": {
        "id": "wutImM3fDfap"
      },
      "execution_count": null,
      "outputs": []
    },
    {
      "cell_type": "code",
      "source": [
        "# 1. load image\n",
        "\n",
        "loaded_image = imread('/content/drive/MyDrive/Data/fish.jpg')\n",
        "\n",
        "plt.imshow(loaded_image)\n",
        "plt.show()\n",
        "\n",
        "def compress_image(image: np.ndarray, number_of_colours: int) -> np.ndarray:\n",
        "    \"\"\"\n",
        "    Compresses the given image by reducing the number of colours used in the image.\n",
        "\n",
        "    This function applies k-means clustering to group the pixel colours of the image\n",
        "    into 'number_of_colours' clusters. Each pixel's colour in the image is then replaced\n",
        "    with the colour of the closest centroid of these clusters. This process effectively\n",
        "    reduces the number of colours in the image, resulting in compression.\n",
        "\n",
        "    Parameters:\n",
        "    image (np.array): The original image is represented as a 3D numpy array\n",
        "                      (height x width x color_channels).\n",
        "    number_of_colours (int): The number of colours to reduce the image to.\n",
        "\n",
        "    Returns:\n",
        "    np.array: The compressed image as a numpy array in the same shape as the input.\n",
        "    \"\"\"\n",
        "\n",
        "    return image\n",
        "\n",
        "img = compress_image(loaded_image, 30)\n",
        "\n",
        "plt.figure()\n",
        "plt.imshow(img)\n",
        "plt.show()"
      ],
      "metadata": {
        "id": "E0uKIi64EBen"
      },
      "execution_count": null,
      "outputs": []
    }
  ]
}