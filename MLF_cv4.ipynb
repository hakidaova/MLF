{
  "nbformat": 4,
  "nbformat_minor": 0,
  "metadata": {
    "colab": {
      "provenance": [],
      "mount_file_id": "1J0FANupoAppBM6WYPSIlTivUctPmr1qc",
      "authorship_tag": "ABX9TyPqBqnmupePSp36qgimjrpq",
      "include_colab_link": true
    },
    "kernelspec": {
      "name": "python3",
      "display_name": "Python 3"
    },
    "language_info": {
      "name": "python"
    }
  },
  "cells": [
    {
      "cell_type": "markdown",
      "metadata": {
        "id": "view-in-github",
        "colab_type": "text"
      },
      "source": [
        "<a href=\"https://colab.research.google.com/github/hakidaova/MLF/blob/main/MLF_cv4.ipynb\" target=\"_parent\"><img src=\"https://colab.research.google.com/assets/colab-badge.svg\" alt=\"Open In Colab\"/></a>"
      ]
    },
    {
      "cell_type": "code",
      "source": [
        "\"\"\"\n",
        "MPA-MLF, Lab 2 - Clustering and K-means\n",
        "What is Clustering?\n",
        "Clustering is an unsupervised machine learning technique used to group similar data points together. The goal of clustering is to find hidden patterns or structures in the data without requiring predefined labels. It is widely used in various applications such as customer segmentation, image compression, anomaly detection, and document classification.\n",
        "\n",
        "K-means\n",
        "K-means is one of the most popular unsupervised machine learning and clustering algorithms and is well known for its simplicity. This algorithm aims to separate unlabeled data into different clusters(subgroups) with the number of clusters represented by the variable K. Data points in the same cluster are very similar, while data points in different clusters are very different. The similarity of data is based on some similarity metric, where the similarity metric can be distance-based, correlation-based, etc.\n",
        "\n",
        "Advantages:\n",
        "\n",
        "Simple and fast for large datasets\n",
        "Works well with well-separated clusters\n",
        "Challenges:\n",
        "\n",
        "Requires specifying K in advance\n",
        "Sensitive to initial centroid selection\n",
        "Assumes spherical clusters (does not work well for non-convex shapes)\n",
        "In our case, we will use distance-based metrics. Any distance-based metrics for numeric variables can be employed, for example:\n",
        "\n",
        "Euclidean distance\n",
        "Manhattan distance\n",
        "Cosine similarity\n",
        "There is an example how K-means works:\n",
        "\n",
        "Imagine you have a bunch of dots scattered on a piece of paper. These dots represent data points, and the goal of the k-means algorithm is to group similar dots into clusters\n",
        "\n",
        "To start, you randomly select k dots from the scatter plot and assign each one to be the centre of a cluster. These k dots are called centroids.\n",
        "\n",
        "Then, you calculate the distance between each dot and each centroid and assign each dot to the closest centroid, effectively grouping the dots into k clusters.\n",
        "\n",
        "Next, you recalculate the centroid of each cluster by finding the average position of all the dots in that cluster.\n",
        "\n",
        "Repeat steps 3 and 4 until the centroids no longer change, meaning the clusters have stabilized.\n",
        "\n",
        "Finally, the algorithm outputs the k clusters and the corresponding centroids.\n",
        "\n",
        "In our case, we would use a Euclidian distance as a metric. Mathematically speaking, the goal would be to minimalize the following objective function:\n",
        "\n",
        "image.png\n",
        "\n",
        "Where:\n",
        "\n",
        "k represents the number of clusters (groups)\n",
        "m represents the number of points\n",
        "u_k represents centroids\n",
        "x_i represents data point\n",
        "w_ik represents weight where wik=1 for data point xi if it belongs to cluster k; otherwise, wik=0.\n",
        "There are some typical applications of using k-means:\n",
        "\n",
        "Customer Segmentation: k-means can segment customers based on their demographic information or purchase behavior. This information can then be used for targeted marketing or to improve the customer experience.\n",
        "\n",
        "Image Compression: k-means can reduce the number of colors in an image while preserving its visual quality. This is done by replacing similar color pixels with a single color, thereby reducing the amount of data required to represent the image.\n",
        "\n",
        "Anomaly Detection: k-means can be used to identify outliers or anomalies in a dataset by clustering similar data points and identifying data points far from the centroids of their respective clusters.\n",
        "\n",
        "Document Clustering: k-means can cluster documents based on their content, for example, to group news articles by topic or categorize customer support tickets.\n",
        "\n",
        "Market Segmentation: k-means can be used to segment a market based on customer characteristics, such as age, income, or spending habits, in order to identify subgroups of customers with similar needs or preferences.\n",
        "\n",
        "Recomended sources:\n",
        "\n",
        "https://towardsdatascience.com/log-book-guide-to-distance-measuring-approaches-for-k-means-clustering-f137807e8e21\n",
        "https://towardsdatascience.com/understanding-k-means-clustering-in-machine-learning-6a6e67336aa1\n",
        "https://realpython.com/k-means-clustering-python/\n",
        "https://medium.com/@rishit.dagli/build-k-means-from-scratch-in-python-e46bf68aa875\n",
        "https://towardsdatascience.com/k-means-clustering-algorithm-applications-evaluation-methods-and-drawbacks-aa03e644b48a\n",
        "https://scikit-learn.org/stable/modules/generated/sklearn.cluster.KMeans.html\n",
        "Exercise 1 - K-means from scratch\n",
        "Implementing K-means\n",
        "In this exercise, the task would be to implement a simple k-means algorithm from scratch, as described above. Let's rewrite the steps to be more readily implementable\n",
        "\n",
        "Steps:\n",
        "\n",
        "Specify the number of clusters K\n",
        "initialize centroids\n",
        "calculate the distance from centroids to all points in datasets\n",
        "assign data points to the closest centroids\n",
        "calculate objective function\n",
        "compute new centroids to the clusters by taking the average of all data points that belong to each cluster\n",
        "repeat steps 2-6. until there is no change in objective function or until the maximum n of iterations is reached\n",
        "Tips:\n",
        "\n",
        "Avoid using loops; if it is unnecessary, instead of using loops, use NumPy functions. There is a list of NumPy functions that you might find helpful:\n",
        "\n",
        "np.argmin()\n",
        "np.where()\n",
        "np.transpose()\n",
        "np.random.permutation()\n",
        "np.random.schuffle()\n",
        "np.linalg.norm()\n",
        "np.arange()\n",
        "np.split()\n",
        "np.random.choice()\n",
        "Since the initial clusters are selected randomly, the algorithm can lead to different results each time it runs. Running the algorithm multiple times and determining the result with the lowest objective function helps obtain the best results.\n",
        "\n",
        "Code\n",
        "Please note that the code structure provided below is only a recommendation. If you prefer, you can use your code structure. If you are familiar with OOP, you can also use it. However, writing your code in one function or not using functions at all is not the recommended approach\n",
        "\"\"\""
      ],
      "metadata": {
        "colab": {
          "base_uri": "https://localhost:8080/",
          "height": 88
        },
        "id": "wIyQg3NQCK5w",
        "outputId": "8d77ed58-c574-4492-ac42-ce679f7104fc"
      },
      "execution_count": null,
      "outputs": [
        {
          "output_type": "execute_result",
          "data": {
            "text/plain": [
              "\"\\nMPA-MLF, Lab 2 - Clustering and K-means\\nWhat is Clustering?\\nClustering is an unsupervised machine learning technique used to group similar data points together. The goal of clustering is to find hidden patterns or structures in the data without requiring predefined labels. It is widely used in various applications such as customer segmentation, image compression, anomaly detection, and document classification.\\n\\nK-means\\nK-means is one of the most popular unsupervised machine learning and clustering algorithms and is well known for its simplicity. This algorithm aims to separate unlabeled data into different clusters(subgroups) with the number of clusters represented by the variable K. Data points in the same cluster are very similar, while data points in different clusters are very different. The similarity of data is based on some similarity metric, where the similarity metric can be distance-based, correlation-based, etc.\\n\\nAdvantages:\\n\\nSimple and fast for large datasets\\nWorks well with well-separated clusters\\nChallenges:\\n\\nRequires specifying K in advance\\nSensitive to initial centroid selection\\nAssumes spherical clusters (does not work well for non-convex shapes)\\nIn our case, we will use distance-based metrics. Any distance-based metrics for numeric variables can be employed, for example:\\n\\nEuclidean distance\\nManhattan distance\\nCosine similarity\\nThere is an example how K-means works:\\n\\nImagine you have a bunch of dots scattered on a piece of paper. These dots represent data points, and the goal of the k-means algorithm is to group similar dots into clusters\\n\\nTo start, you randomly select k dots from the scatter plot and assign each one to be the centre of a cluster. These k dots are called centroids.\\n\\nThen, you calculate the distance between each dot and each centroid and assign each dot to the closest centroid, effectively grouping the dots into k clusters.\\n\\nNext, you recalculate the centroid of each cluster by finding the average position of all the dots in that cluster.\\n\\nRepeat steps 3 and 4 until the centroids no longer change, meaning the clusters have stabilized.\\n\\nFinally, the algorithm outputs the k clusters and the corresponding centroids.\\n\\nIn our case, we would use a Euclidian distance as a metric. Mathematically speaking, the goal would be to minimalize the following objective function:\\n\\nimage.png\\n\\nWhere:\\n\\nk represents the number of clusters (groups)\\nm represents the number of points\\nu_k represents centroids\\nx_i represents data point\\nw_ik represents weight where wik=1 for data point xi if it belongs to cluster k; otherwise, wik=0.\\nThere are some typical applications of using k-means:\\n\\nCustomer Segmentation: k-means can segment customers based on their demographic information or purchase behavior. This information can then be used for targeted marketing or to improve the customer experience.\\n\\nImage Compression: k-means can reduce the number of colors in an image while preserving its visual quality. This is done by replacing similar color pixels with a single color, thereby reducing the amount of data required to represent the image.\\n\\nAnomaly Detection: k-means can be used to identify outliers or anomalies in a dataset by clustering similar data points and identifying data points far from the centroids of their respective clusters.\\n\\nDocument Clustering: k-means can cluster documents based on their content, for example, to group news articles by topic or categorize customer support tickets.\\n\\nMarket Segmentation: k-means can be used to segment a market based on customer characteristics, such as age, income, or spending habits, in order to identify subgroups of customers with similar needs or preferences.\\n\\nRecomended sources:\\n\\nhttps://towardsdatascience.com/log-book-guide-to-distance-measuring-approaches-for-k-means-clustering-f137807e8e21\\nhttps://towardsdatascience.com/understanding-k-means-clustering-in-machine-learning-6a6e67336aa1\\nhttps://realpython.com/k-means-clustering-python/\\nhttps://medium.com/@rishit.dagli/build-k-means-from-scratch-in-python-e46bf68aa875\\nhttps://towardsdatascience.com/k-means-clustering-algorithm-applications-evaluation-methods-and-drawbacks-aa03e644b48a\\nhttps://scikit-learn.org/stable/modules/generated/sklearn.cluster.KMeans.html\\nExercise 1 - K-means from scratch\\nImplementing K-means\\nIn this exercise, the task would be to implement a simple k-means algorithm from scratch, as described above. Let's rewrite the steps to be more readily implementable\\n\\nSteps:\\n\\nSpecify the number of clusters K\\ninitialize centroids\\ncalculate the distance from centroids to all points in datasets\\nassign data points to the closest centroids\\ncalculate objective function\\ncompute new centroids to the clusters by taking the average of all data points that belong to each cluster\\nrepeat steps 2-6. until there is no change in objective function or until the maximum n of iterations is reached\\nTips:\\n\\nAvoid using loops; if it is unnecessary, instead of using loops, use NumPy functions. There is a list of NumPy functions that you might find helpful:\\n\\nnp.argmin()\\nnp.where()\\nnp.transpose()\\nnp.random.permutation()\\nnp.random.schuffle()\\nnp.linalg.norm()\\nnp.arange()\\nnp.split()\\nnp.random.choice()\\nSince the initial clusters are selected randomly, the algorithm can lead to different results each time it runs. Running the algorithm multiple times and determining the result with the lowest objective function helps obtain the best results.\\n\\nCode\\nPlease note that the code structure provided below is only a recommendation. If you prefer, you can use your code structure. If you are familiar with OOP, you can also use it. However, writing your code in one function or not using functions at all is not the recommended approach\\n\""
            ],
            "application/vnd.google.colaboratory.intrinsic+json": {
              "type": "string"
            }
          },
          "metadata": {},
          "execution_count": 2
        }
      ]
    },
    {
      "cell_type": "code",
      "execution_count": null,
      "metadata": {
        "id": "HWOc2pVxF_Eq"
      },
      "outputs": [],
      "source": [
        "import matplotlib.pyplot as plt\n",
        "import copy\n",
        "import numpy as np\n",
        "from numpy.linalg import norm\n",
        "from sklearn.cluster import KMeans"
      ]
    },
    {
      "cell_type": "code",
      "source": [
        "from google.colab import drive\n",
        "drive.mount('/content/drive')"
      ],
      "metadata": {
        "colab": {
          "base_uri": "https://localhost:8080/"
        },
        "id": "JN1gdobHWh6o",
        "outputId": "637df60e-dc41-434b-b3bf-4fa680ccd5d7"
      },
      "execution_count": null,
      "outputs": [
        {
          "output_type": "stream",
          "name": "stdout",
          "text": [
            "Drive already mounted at /content/drive; to attempt to forcibly remount, call drive.mount(\"/content/drive\", force_remount=True).\n"
          ]
        }
      ]
    },
    {
      "cell_type": "code",
      "source": [
        "#0. Load dataset\n",
        "#Use the following code to load data\n",
        "\n",
        "loaded_points = np.load('/content/drive/MyDrive/Data/k_mean_points.npy')\n",
        "\n",
        "plt.figure()\n",
        "plt.scatter(loaded_points[:,0],loaded_points[:,1])"
      ],
      "metadata": {
        "colab": {
          "base_uri": "https://localhost:8080/",
          "height": 450
        },
        "id": "XlbvSJsWlRvv",
        "outputId": "4b6da243-d601-4bf7-c200-432e249d19c1"
      },
      "execution_count": null,
      "outputs": [
        {
          "output_type": "execute_result",
          "data": {
            "text/plain": [
              "<matplotlib.collections.PathCollection at 0x79f9e5797ad0>"
            ]
          },
          "metadata": {},
          "execution_count": 4
        },
        {
          "output_type": "display_data",
          "data": {
            "text/plain": [
              "<Figure size 640x480 with 1 Axes>"
            ],
            "image/png": "[encoded data removed]"
          },
          "metadata": {}
        }
      ]
    },
    {
      "cell_type": "code",
      "source": [
        "# 1. Specify number of clusters K\n",
        "k = 3"
      ],
      "metadata": {
        "id": "Raka_L_7PnVv"
      },
      "execution_count": null,
      "outputs": []
    },
    {
      "cell_type": "code",
      "source": [
        "# 2. initialize centroids\n",
        "\n",
        "# There are more techniques, on how to change initial centroids.\n",
        "# In our case, we will take all available points and shuffle them randomly,\n",
        "# then we will choose first k_clusters points as initial centroids.\n",
        "\n",
        "def initialize_clusters(points: np.ndarray, k_clusters: int) -> np.ndarray:\n",
        "    \"\"\"\n",
        "    Initializes and returns k random centroids from the given dataset.\n",
        "\n",
        "    :param points: Array of data points.\n",
        "    :type: points ndarray with shape (n, 2)\n",
        "\n",
        "    :param k_clusters: The number of clusters to form\n",
        "    :type k_clusters: int\n",
        "\n",
        "\n",
        "    :return: initial_clusters\n",
        "    initial_clusters: Array of initialized centroids\n",
        "\n",
        "    :rtype:\n",
        "    initial_clusters: np.array (k_clusters, 2)\n",
        "    :\n",
        "\n",
        "    \"\"\"\n",
        "\n",
        "    ###################################\n",
        "    # Write your own code here\n",
        "\n",
        "    #points = np.random.shuffle(loaded_points)\n",
        "    initial_clusters = points[np.random.choice(points.shape[0], k_clusters, replace = False)]\n",
        "\n",
        "    ###################################\n",
        "\n",
        "    return initial_clusters"
      ],
      "metadata": {
        "id": "meROaO3PPokX"
      },
      "execution_count": null,
      "outputs": []
    },
    {
      "cell_type": "code",
      "source": [
        "ini = initialize_clusters(loaded_points,k) # initialized clusters with random centroids\n",
        "print(ini)"
      ],
      "metadata": {
        "colab": {
          "base_uri": "https://localhost:8080/"
        },
        "id": "BsbpwOE0VtVE",
        "outputId": "27fb6024-ed7c-4ded-be64-480900fc91ed"
      },
      "execution_count": null,
      "outputs": [
        {
          "output_type": "stream",
          "name": "stdout",
          "text": [
            "[[8.38223854 9.39009357]\n",
            " [7.66355388 8.09644192]\n",
            " [5.4846864  5.3403198 ]]\n"
          ]
        }
      ]
    },
    {
      "cell_type": "code",
      "source": [
        "# 3. Calculate distance from centroids to all points in datasets\n",
        "\n",
        "# 3.1 Fistly, create a function to calculate distance\n",
        "# from one centroid to all points in the dataset\n",
        "\n",
        "def calculate_metric(points: np.ndarray, centroid: np.ndarray) -> np.ndarray:\n",
        "    \"\"\"\n",
        "    Calculates the distances between the given centroid and every other point.\n",
        "\n",
        "    Parameters:\n",
        "    :param points: Array of n data points.\n",
        "    :type points: ndarray with shape (n, 2)\n",
        "\n",
        "    :param centroid: A single centroid\n",
        "    :type centroid: ndarray with shape (1, 2)\n",
        "\n",
        "    :return: distances_array\n",
        "    distances_array: Array of distances from point to centroid\n",
        "\n",
        "    :rtype:\n",
        "    distances_array: ndarray with shape (n,)\n",
        "    :\n",
        "    \"\"\"\n",
        "\n",
        "    ###################################\n",
        "    # Write your own code here\n",
        "    distances_array = np.linalg.norm(points - centroid, axis = 1)\n",
        "    #distances_array = np.array([])\n",
        "\n",
        "\n",
        "    ###################################\n",
        "\n",
        "    return distances_array"
      ],
      "metadata": {
        "id": "qUCX_d8mVbzl"
      },
      "execution_count": null,
      "outputs": []
    },
    {
      "cell_type": "code",
      "source": [
        "distance = calculate_metric(loaded_points,ini[0,:]) # distance of every point to the 1st ccentroid\n",
        "print(distance)"
      ],
      "metadata": {
        "colab": {
          "base_uri": "https://localhost:8080/"
        },
        "id": "HibcxWQrZysn",
        "outputId": "4ce63a6b-a568-498c-edd5-e4e5efc4acad"
      },
      "execution_count": null,
      "outputs": [
        {
          "output_type": "stream",
          "name": "stdout",
          "text": [
            "[ 8.3810982   6.10579812  4.70609655  4.97960601  4.94083837  8.62691806\n",
            "  8.14559716  5.83441618  7.15219888 11.20956349 11.47654274  9.42173832\n",
            "  9.25133042  9.47244543  9.76207059 10.07183323  7.79950818  8.22857778\n",
            "  9.14587948  5.82636979  0.          2.26387634  1.86868304  2.9075165\n",
            "  2.35610595  0.49897968  2.77651794  2.52653422  1.47987912  1.19332338\n",
            "  4.7635653   2.38852727  4.19785538  4.18237657  3.59572616  2.66911726\n",
            "  2.49324076  1.08404774  0.9897508   3.25156999  7.81743849  9.79041991\n",
            "  7.3041186   7.53642018  6.11095489  9.31847724  6.39516224  4.9617084\n",
            "  5.26688968  4.09386294  4.70158226  8.1161629   8.20973782  6.91502252\n",
            "  8.05193009  7.18208578  9.20198693  9.89157106  7.93889861  3.72157793]\n"
          ]
        }
      ]
    },
    {
      "cell_type": "code",
      "source": [
        "# 3.2 Secondly, create a function to calculate distance between points\n",
        "# and all centroids using function from 3.1\n",
        "\n",
        "def compute_distances(points: np.ndarray, centroids_points: np.ndarray) -> np.ndarray:\n",
        "    \"\"\"\n",
        "    Computes and returns the distances of every point from every centroid.\n",
        "\n",
        "    Parameters:\n",
        "    :param points: Array of n data points.\n",
        "    :type points: ndarray with shape (n, 2)\n",
        "\n",
        "    :param centroids_points: Array of all centroid points\n",
        "    :type centroids_points: ndarray with shape (k_clusters, 2)\n",
        "\n",
        "\n",
        "    :return: distances_array\n",
        "    distances_array: 2D array with distances of each point to each centroid.\n",
        "\n",
        "    :rtype:\n",
        "    distances_array: ndarray of shape (n, k_clusters)\n",
        "    \"\"\"\n",
        "    ###################################\n",
        "    # Write your own code here\n",
        "\n",
        "    distances_array = np.zeros((points.shape[0], centroids_points.shape[0])) # an empty array to store distances\n",
        "\n",
        "    for i, centroid in enumerate(centroids_points): # for every centroid\n",
        "    # for i in range(k):\n",
        "        distances_array[:, i] = calculate_metric(points, centroid) # calculate the distance from each point\n",
        "    ###################################\n",
        "\n",
        "    return distances_array"
      ],
      "metadata": {
        "id": "uTWjurCKaRGn"
      },
      "execution_count": null,
      "outputs": []
    },
    {
      "cell_type": "code",
      "source": [
        "distances = compute_distances(loaded_points,ini) # distance of every point from every centroid\n",
        "print(distances)"
      ],
      "metadata": {
        "colab": {
          "base_uri": "https://localhost:8080/"
        },
        "id": "m4ROv9eweM5J",
        "outputId": "07ae6190-bfba-4fd1-f48a-ec4e30ccb3c8"
      },
      "execution_count": null,
      "outputs": [
        {
          "output_type": "stream",
          "name": "stdout",
          "text": [
            "[[ 8.3810982   6.90589997  3.6072421 ]\n",
            " [ 6.10579812  4.66760009  2.09321735]\n",
            " [ 4.70609655  3.25442249  0.35960117]\n",
            " [ 4.97960601  3.51335632  0.        ]\n",
            " [ 4.94083837  3.46799395  0.96954609]\n",
            " [ 8.62691806  7.51132791  5.07276863]\n",
            " [ 8.14559716  6.66742634  3.32063662]\n",
            " [ 5.83441618  4.40222829  1.02928888]\n",
            " [ 7.15219888  5.8542728   2.94595332]\n",
            " [11.20956349  9.75708357  6.2492547 ]\n",
            " [11.47654274 10.00633713  6.49716231]\n",
            " [ 9.42173832  7.98482077  4.99774795]\n",
            " [ 9.25133042  7.78263471  4.27173183]\n",
            " [ 9.47244543  8.07416463  5.33123207]\n",
            " [ 9.76207059  8.36393864  4.96981411]\n",
            " [10.07183323  8.65319069  5.20603749]\n",
            " [ 7.79950818  6.43221341  3.19201685]\n",
            " [ 8.22857778  6.90863137  3.81214452]\n",
            " [ 9.14587948  7.71818111  4.80996263]\n",
            " [ 5.82636979  4.38967706  0.99097938]\n",
            " [ 0.          1.47987912  4.97960601]\n",
            " [ 2.26387634  0.78663209  2.76140044]\n",
            " [ 1.86868304  2.4579676   5.23248835]\n",
            " [ 2.9075165   2.98543817  4.92327024]\n",
            " [ 2.35610595  2.0570192   4.57375576]\n",
            " [ 0.49897968  1.58708064  5.08689115]\n",
            " [ 2.77651794  1.55717882  2.49233153]\n",
            " [ 2.52653422  3.08150103  6.09115271]\n",
            " [ 1.47987912  0.          3.51335632]\n",
            " [ 1.19332338  0.77023575  4.10146616]\n",
            " [ 4.7635653   4.15460432  5.15261884]\n",
            " [ 2.38852727  3.84996592  7.36201824]\n",
            " [ 4.19785538  3.40523456  4.30307209]\n",
            " [ 4.18237657  2.70371931  0.87925586]\n",
            " [ 3.59572616  2.18751893  2.03755842]\n",
            " [ 2.66911726  1.81656751  3.71137174]\n",
            " [ 2.49324076  1.88237757  3.55415964]\n",
            " [ 1.08404774  2.50879339  5.93815145]\n",
            " [ 0.9897508   1.28678965  4.6556256 ]\n",
            " [ 3.25156999  1.99064126  2.7277345 ]\n",
            " [ 7.81743849  9.29267261 12.73603755]\n",
            " [ 9.79041991 11.1331907  14.56777717]\n",
            " [ 7.3041186   8.77985096 12.28222354]\n",
            " [ 7.53642018  8.9857745  12.49838969]\n",
            " [ 6.11095489  7.43575382 10.87258941]\n",
            " [ 9.31847724 10.78250875 14.29498542]\n",
            " [ 6.39516224  7.69823761 11.1143566 ]\n",
            " [ 4.9617084   6.32769194  9.80230241]\n",
            " [ 5.26688968  6.35780919  9.59279672]\n",
            " [ 4.09386294  5.15761869  8.41008505]\n",
            " [ 4.70158226  5.71176296  8.88885269]\n",
            " [ 8.1161629   9.54231023 13.04597574]\n",
            " [ 8.20973782  9.61502089 13.10600151]\n",
            " [ 6.91502252  8.38847478 11.82675234]\n",
            " [ 8.05193009  9.06633522 12.14046616]\n",
            " [ 7.18208578  8.66031209 12.12126957]\n",
            " [ 9.20198693 10.63351143 14.1392041 ]\n",
            " [ 9.89157106 11.29988396 14.79074279]\n",
            " [ 7.93889861  9.40361871 12.80719986]\n",
            " [ 3.72157793  5.01112703  8.4476498 ]]\n"
          ]
        }
      ]
    },
    {
      "cell_type": "code",
      "source": [
        "# 4. Assign datapoints to the closest centroids\n",
        "\n",
        "def assign_centroids(distances: np.ndarray) -> np.ndarray:\n",
        "    \"\"\"\n",
        "    Assigns each point to the closest centroid based on the distances.\n",
        "\n",
        "    Parameters:\n",
        "    :param distances: 2D array with distances of each point to each centroid.\n",
        "    :type distances: ndarray with shape (k_clusters, n)\n",
        "\n",
        "    :return: assigned_clusters\n",
        "    assigned_clusters: Array indicating the closest centroid for each data point.\n",
        "\n",
        "    :rtype:\n",
        "    assigned_centroids: ndarray with shape (1, n) and dtype = np.int32\n",
        "    \"\"\"\n",
        "\n",
        "    ###################################\n",
        "    # Write your own code here #\n",
        "\n",
        "    assigned_centroids = np.argmin(distances, axis=1) # returns index of the first occurence of minimum value in distances along axis 1 (rows)\n",
        "    ###################################\n",
        "\n",
        "    return assigned_centroids"
      ],
      "metadata": {
        "id": "KxDwM3YnefOq"
      },
      "execution_count": null,
      "outputs": []
    },
    {
      "cell_type": "code",
      "source": [
        "assigned = assign_centroids(distances) # assigned centroids for each point\n",
        "print(assigned)"
      ],
      "metadata": {
        "colab": {
          "base_uri": "https://localhost:8080/"
        },
        "id": "XCXKfmC-ezVk",
        "outputId": "b107bd7c-b538-4720-8aa5-7a1e92523af4"
      },
      "execution_count": null,
      "outputs": [
        {
          "output_type": "stream",
          "name": "stdout",
          "text": [
            "[2 2 2 2 2 2 2 2 2 2 2 2 2 2 2 2 2 2 2 2 0 1 0 0 1 0 1 0 1 1 1 0 1 2 2 1 1\n",
            " 0 0 1 0 0 0 0 0 0 0 0 0 0 0 0 0 0 0 0 0 0 0 0]\n"
          ]
        }
      ]
    },
    {
      "cell_type": "code",
      "source": [
        "# 5. Calculate objective function\n",
        "\n",
        "def calculate_objective(assigned_centroids: np.ndarray, distances: np.ndarray) -> np.ndarray:\n",
        "    \"\"\"\n",
        "    Calculates and returns the objective function value for the clustering.\n",
        "\n",
        "    Parameters:\n",
        "    :param assigned_centroids: Array indicating the cluster assignment for each point.\n",
        "    :type assigned_centroids: ndarray with shape (1, n) and and dtype = np.int64\n",
        "\n",
        "    :param distances: 2D array with distances of each point to each centroid\n",
        "    :type distances: ndarray with shape (k_clusters, n) and and dtype = np.float64\n",
        "\n",
        "    :return: objective_function_value\n",
        "    objective_function_value: Objective function value.\n",
        "\n",
        "    :rtype:\n",
        "    objective_function_value: float32\n",
        "\n",
        "\n",
        "    \"\"\"\n",
        "    ###################################\n",
        "    # Write your own code here #\n",
        "\n",
        "    objective_function_value = 0.0 # float32\n",
        "\n",
        "    for i in range(len(assigned_centroids)): # for every point\n",
        "        assigned_centroid_index = assigned_centroids[i]  # get the index of its assigned centroid\n",
        "        objective_function_value += distances[i, assigned_centroid_index]**2  # and add the squared distance to its assigned centroid\n",
        "\n",
        "    ###################################\n",
        "\n",
        "    return objective_function_value"
      ],
      "metadata": {
        "id": "RCvmYl9yfHA8"
      },
      "execution_count": null,
      "outputs": []
    },
    {
      "cell_type": "code",
      "source": [
        "clustering = calculate_objective(assigned, distances)\n",
        "print(clustering)"
      ],
      "metadata": {
        "colab": {
          "base_uri": "https://localhost:8080/"
        },
        "id": "QNSrcV6cg3uq",
        "outputId": "3a4cecdf-bc1d-408c-95a1-988055c1c0cb"
      },
      "execution_count": null,
      "outputs": [
        {
          "output_type": "stream",
          "name": "stdout",
          "text": [
            "1477.7213343412513\n"
          ]
        }
      ]
    },
    {
      "cell_type": "code",
      "source": [
        "# 6. Compute new controids to the clusters by taking the average of the all data\n",
        "# points that belong to each cluster\n",
        "\n",
        "def calculate_new_centroids(points: np.ndarray, assigned_centroids: np.ndarray, k_clusters: int) -> np.ndarray:\n",
        "    \"\"\"\n",
        "    Computes new centroids based on the current cluster assignments.\n",
        "\n",
        "    Parameters:\n",
        "    :param points: Array of n data points.\n",
        "    :type points: ndarray with shape (n, 2)\n",
        "\n",
        "    :param assigned_centroids: Array indicating the closest centroid for each data point.\n",
        "    :type assigned_centroids: ndarray with shape (1, n) and dtype = np.int32\n",
        "\n",
        "\n",
        "    :param k_clusters: Number of clusters.\n",
        "    :type k_clusters: int\n",
        "\n",
        "\n",
        "    :return: new_clusters\n",
        "    new_clusters: new cluster points\n",
        "\n",
        "    :rtype:\n",
        "    new_clusters: ndarray with shape (1, n) and dtype = np.float32\n",
        "    \"\"\"\n",
        "\n",
        "    ###################################\n",
        "    # Write your own code here #\n",
        "\n",
        "    new_clusters = np.zeros((k_clusters, points.shape[1])) # new centroids array\n",
        "\n",
        "    # calculate the mean of the points assigned to it\n",
        "    for i in range(k_clusters): # for each cluster\n",
        "        assigned_points = points[assigned_centroids == i] # indices of every point assigned to current cluster\n",
        "        if assigned_points.shape[0] > 0: # if any poire ants assigned to a certaint cluster\n",
        "            new_clusters[i] = np.mean(assigned_points, axis=0) # calculate the mean value of points assigned to it and make it a new centroid\n",
        "\n",
        "    # new_clusters = np.array([])\n",
        "\n",
        "    ###################################\n",
        "\n",
        "    return new_clusters"
      ],
      "metadata": {
        "id": "IiW76omCiLF0"
      },
      "execution_count": null,
      "outputs": []
    },
    {
      "cell_type": "code",
      "source": [
        "new = calculate_new_centroids(loaded_points,assigned,k) # new centroidds\n",
        "print(new)"
      ],
      "metadata": {
        "colab": {
          "base_uri": "https://localhost:8080/"
        },
        "id": "KPsvc5MaiaTM",
        "outputId": "08a77b57-3f86-4df8-c870-7564b1afc904"
      },
      "execution_count": null,
      "outputs": [
        {
          "output_type": "stream",
          "name": "stdout",
          "text": [
            "[[11.99179362 12.73873298]\n",
            " [ 8.25408747  7.11922991]\n",
            " [ 4.10555706  3.34917099]]\n"
          ]
        }
      ]
    },
    {
      "cell_type": "code",
      "source": [
        "# 7. repeat steps 2-6. until there is no change in objective\n",
        "# function or until the maximum n of iterations is reached\n",
        "\n",
        "def fit(points: np.ndarray, k_clusters: int, n_of_iterations: int, error: float = 0.001) -> tuple:\n",
        "    \"\"\"\n",
        "    Fits the k-means clustering model on the dataset.\n",
        "\n",
        "    Parameters:\n",
        "    :param points : Array of data points.\n",
        "    :type points: ndarray with shape (n, 2) and dtype = np.float32\n",
        "\n",
        "    :param k_clusters:  Number of clusters\n",
        "    :type k_clusters: int\n",
        "\n",
        "    :param n_of_iterations:  Maximum number of iterations\n",
        "    :type n_of_iterations: int\n",
        "\n",
        "\n",
        "    :param error: Threshold for convergence.\n",
        "    :type error: float\n",
        "\n",
        "    :return: centroid_points, last_objective\n",
        "    centroid_points: final centroid points\n",
        "    last_objective: final objective funtion\n",
        "\n",
        "    :rtype:\n",
        "    centroid_points: ndarray with shape (k_clusters, 2) and dtype = np.float32\n",
        "    last_objective: float\n",
        "\n",
        "    \"\"\"\n",
        "\n",
        "    ###################################\n",
        "    # Write your own code here #\n",
        "\n",
        "    #centroid_points = np.array([])\n",
        "    #last_objective = 10000.0\n",
        "\n",
        "    #for _ in range(n_of_oterations):\n",
        "     #   pass\n",
        "\n",
        "    # Initialize centroids (you can use your `initialize_clusters` function here)\n",
        "    centroid_points = initialize_clusters(points, k_clusters)\n",
        "\n",
        "    last_objective = float('inf')\n",
        "\n",
        "    for _ in range(n_of_iterations):\n",
        "        # Step 1: Compute distances between points and centroids\n",
        "        distances = compute_distances(points, centroid_points)\n",
        "\n",
        "        # Step 2: Assign each point to the closest centroid\n",
        "        assigned_centroids = assign_centroids(distances)\n",
        "\n",
        "        # Step 3: Calculate new centroids based on the assignments\n",
        "        new_centroids = calculate_new_centroids(points, assigned_centroids, k_clusters)\n",
        "\n",
        "        # Step 4: Calculate the new objective function\n",
        "        current_objective = calculate_objective(assigned_centroids, distances)\n",
        "\n",
        "        # Step 5: Check for convergence (if the objective function doesn't change significantly)\n",
        "        if abs(last_objective - current_objective) < error:\n",
        "            break\n",
        "\n",
        "        # Update last objective and centroids\n",
        "        last_objective = current_objective\n",
        "        centroid_points = new_centroids\n",
        "\n",
        "    ###################################\n",
        "\n",
        "    return centroid_points, last_objective"
      ],
      "metadata": {
        "id": "TUEnOqM7jd1q"
      },
      "execution_count": null,
      "outputs": []
    },
    {
      "cell_type": "code",
      "source": [
        "error = 0.001\n",
        "n_of_iterations = 1000\n",
        "final = fit(loaded_points, k,n_of_iterations, error)\n",
        "print(final)"
      ],
      "metadata": {
        "colab": {
          "base_uri": "https://localhost:8080/",
          "height": 193
        },
        "id": "yzW8C-__jogw",
        "outputId": "39af2bb5-9662-49de-cd27-a336364dbdde"
      },
      "execution_count": null,
      "outputs": [
        {
          "output_type": "error",
          "ename": "NameError",
          "evalue": "name 'fit' is not defined",
          "traceback": [
            "\u001b[0;31m---------------------------------------------------------------------------\u001b[0m",
            "\u001b[0;31mNameError\u001b[0m                                 Traceback (most recent call last)",
            "\u001b[0;32m<ipython-input-1-f0c45f8e95b2>\u001b[0m in \u001b[0;36m<cell line: 0>\u001b[0;34m()\u001b[0m\n\u001b[1;32m      1\u001b[0m \u001b[0merror\u001b[0m \u001b[0;34m=\u001b[0m \u001b[0;36m0.001\u001b[0m\u001b[0;34m\u001b[0m\u001b[0;34m\u001b[0m\u001b[0m\n\u001b[1;32m      2\u001b[0m \u001b[0mn_of_iterations\u001b[0m \u001b[0;34m=\u001b[0m \u001b[0;36m1000000\u001b[0m\u001b[0;34m\u001b[0m\u001b[0;34m\u001b[0m\u001b[0m\n\u001b[0;32m----> 3\u001b[0;31m \u001b[0mfinal\u001b[0m \u001b[0;34m=\u001b[0m \u001b[0mfit\u001b[0m\u001b[0;34m(\u001b[0m\u001b[0mloaded_points\u001b[0m\u001b[0;34m,\u001b[0m \u001b[0mk\u001b[0m\u001b[0;34m,\u001b[0m\u001b[0mn_of_iterations\u001b[0m\u001b[0;34m,\u001b[0m \u001b[0merror\u001b[0m\u001b[0;34m)\u001b[0m\u001b[0;34m\u001b[0m\u001b[0;34m\u001b[0m\u001b[0m\n\u001b[0m\u001b[1;32m      4\u001b[0m \u001b[0mprint\u001b[0m\u001b[0;34m(\u001b[0m\u001b[0mfinal\u001b[0m\u001b[0;34m)\u001b[0m\u001b[0;34m\u001b[0m\u001b[0;34m\u001b[0m\u001b[0m\n",
            "\u001b[0;31mNameError\u001b[0m: name 'fit' is not defined"
          ]
        }
      ]
    },
    {
      "cell_type": "code",
      "source": [
        "\n",
        "plt.figure()\n",
        "# plt.scatter(loaded_points[:,0], loaded_points[:,1], color = 'black')\n",
        "\n",
        "# for i in range (k): a loop would be great\n",
        "plt.scatter(final[0][0,0],final[0][0,1], color ='magenta', edgecolor = 'black', linewidth = 2)\n",
        "plt.scatter(final[0][1,0],final[0][1,1], color = 'cyan', edgecolor = 'black', linewidth = 2)\n",
        "plt.scatter(final[0][2,0],final[0][2,1], color ='yellow', edgecolor = 'black', linewidth = 2)\n",
        "\n",
        "new_assign = assign_centroids(compute_distances(loaded_points, final[0]))\n",
        "print(new_assign)\n",
        "\n",
        "plt.scatter(loaded_points[new_assign==0,0],loaded_points[new_assign==0,1], color ='magenta')\n",
        "plt.scatter(loaded_points[new_assign==1,0],loaded_points[new_assign==1,1], color ='cyan')\n",
        "plt.scatter(loaded_points[new_assign==2,0],loaded_points[new_assign==2,1], color ='yellow')\n"
      ],
      "metadata": {
        "id": "pFG4NNDWksSO",
        "colab": {
          "base_uri": "https://localhost:8080/",
          "height": 486
        },
        "outputId": "32a14f4d-63bb-45dc-e118-27f345d1b303"
      },
      "execution_count": null,
      "outputs": [
        {
          "output_type": "stream",
          "name": "stdout",
          "text": [
            "[0 0 0 0 0 0 0 0 0 0 0 0 0 0 0 0 0 0 0 0 2 2 2 2 2 2 2 2 2 2 2 2 2 2 2 2 2\n",
            " 2 2 2 1 1 1 1 1 1 1 1 1 1 1 1 1 1 1 1 1 1 1 1]\n"
          ]
        },
        {
          "output_type": "execute_result",
          "data": {
            "text/plain": [
              "<matplotlib.collections.PathCollection at 0x79f997691b50>"
            ]
          },
          "metadata": {},
          "execution_count": 39
        },
        {
          "output_type": "display_data",
          "data": {
            "text/plain": [
              "<Figure size 640x480 with 1 Axes>"
            ],
            "image/png": "[encoded data removed]"
          },
          "metadata": {}
        }
      ]
    },
    {
      "cell_type": "code",
      "source": [
        "\"\"\"\n",
        "Evaluation methods - How to determine k?\n",
        "One of the disadvantages of using k-means is that it requires a number of centroids k as an input, and it is not usually that obvious. Some methods exist to choose the correct number of centroids at the beginning. In this part of the lecture, we will describe two methods to select the right k value: Elbow method and Silhouette analysis\n",
        "\n",
        "Elbow method\n",
        "The Elbow Method is a technique used in determining the optimal number of clusters for k-means clustering. The basic idea is to plot the explained variation as a function of the number of clusters and pick the elbow of the curve as the number of clusters to use. In the picture below you can see that the best k value is 3\n",
        "\n",
        "image.png image.png\n",
        "\n",
        "The main advantage of this method that its very simple and easy to implement, on the other hand sometimes it is not very clear where the elbow is\n",
        "\n",
        "Silhouette analysis\n",
        "Silhouette analysis is a method to evaluate the quality of clustering results by measuring how similar each data point is to its own cluster compared to other clusters. A high silhouette score indicates that the data points in a cluster are well-separated from other clusters and that the clustering solution is good.\n",
        "\n",
        "The silhouette score can be calculated using the following formula. This measure has a range of [-1, 1] and it is calculated for each sample in the dataset\n",
        "\n",
        "image.png\n",
        "\n",
        "where:\n",
        "\n",
        "a_i represents the average distance of that point with all other points in the same clusters\n",
        "b_i represents the average distance of that point with all the points in the closest cluster to its cluster\n",
        "if\n",
        "\n",
        "is 0 –> the sample is very close to the neighboring clusters.\n",
        "is 1 –> the sample is far away from the neighboring clusters.\n",
        "is -1 –> the sample is assigned to the wrong clusters.\n",
        "\"\"\""
      ],
      "metadata": {
        "id": "vaOuLjZ7lEQ9"
      },
      "execution_count": null,
      "outputs": []
    },
    {
      "cell_type": "code",
      "source": [
        "# Exercise 2 - Implementing an Elbow Method\n",
        "# Implementing an elbow method is simple,\n",
        "\n",
        "# 1. Create a vector of possible k values\n",
        "# 2. Fit your data using different k values and save the objective function value\n",
        "# 3. Plot objective function values in terms of k values\n",
        "# 4. Find an elbow\n",
        "\n",
        "k_all = range(2, 10)\n",
        "all_objective = []\n",
        "\n",
        "\n",
        "#WRITE YOUR CODE HERE\n",
        "plt.figure()\n",
        "plt.plot(k_all, all_objective)\n",
        "plt.xlabel('K clusters')\n",
        "plt.ylabel('Sum of squared distance')"
      ],
      "metadata": {
        "id": "3ue3T1ghDFyM"
      },
      "execution_count": null,
      "outputs": []
    },
    {
      "cell_type": "code",
      "source": [
        "# Exercise 3 - Image Compression\n",
        "# In this exercise, the task would be to implement simple image compression using the k-means algorithm. You can use an image in the directory Data\\. This time, we will use a library that implements k-means for us - sklearn https://scikit-learn.org/stable/modules/generated/sklearn.cluster.KMeans.html. To load the image you can use openCv or matplotlib (or anything else)\n",
        "\n",
        "# Steps\n",
        "# 1. Firstly reshape your image to 2D array with shape (image.width*image.height, n_of_colour_channels)\n",
        "# 2. Initialize the K_means algorithm, where K would be equal to the number of colours in the compressed image\n",
        "# 3. check cluster centroids and convert them to integers - these are your new colours (kmeans.cluster_centers_ could be useful)\n",
        "# 4. replace your 2D array colors with newly generated colors\n",
        "# 5. reshape your 2D array to the original image shape\n",
        "\n",
        "# Tips:\n",
        "# it takes a couple of seconds to compress the attached image. For debugging purposes, you can use a custom smaller image\n",
        "# the implementation can be done in a single function\n",
        "\n",
        "from matplotlib.image import imread\n",
        "from sklearn.cluster import KMeans\n",
        "import numpy as np\n"
      ],
      "metadata": {
        "id": "wutImM3fDfap"
      },
      "execution_count": null,
      "outputs": []
    },
    {
      "cell_type": "code",
      "source": [
        "# 1. load image\n",
        "\n",
        "loaded_image = imread('/content/drive/MyDrive/Data/fish.jpg')\n",
        "\n",
        "plt.imshow(loaded_image)\n",
        "plt.show()\n",
        "\n",
        "def compress_image(image: np.ndarray, number_of_colours: int) -> np.ndarray:\n",
        "    \"\"\"\n",
        "    Compresses the given image by reducing the number of colours used in the image.\n",
        "\n",
        "    This function applies k-means clustering to group the pixel colours of the image\n",
        "    into 'number_of_colours' clusters. Each pixel's colour in the image is then replaced\n",
        "    with the colour of the closest centroid of these clusters. This process effectively\n",
        "    reduces the number of colours in the image, resulting in compression.\n",
        "\n",
        "    Parameters:\n",
        "    image (np.array): The original image is represented as a 3D numpy array\n",
        "                      (height x width x color_channels).\n",
        "    number_of_colours (int): The number of colours to reduce the image to.\n",
        "\n",
        "    Returns:\n",
        "    np.array: The compressed image as a numpy array in the same shape as the input.\n",
        "    \"\"\"\n",
        "\n",
        "    return image\n",
        "\n",
        "img = compress_image(loaded_image, 30)\n",
        "\n",
        "plt.figure()\n",
        "plt.imshow(img)\n",
        "plt.show()"
      ],
      "metadata": {
        "id": "E0uKIi64EBen"
      },
      "execution_count": null,
      "outputs": []
    }
  ]
}